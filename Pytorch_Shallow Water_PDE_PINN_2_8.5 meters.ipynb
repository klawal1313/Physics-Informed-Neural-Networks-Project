{
 "cells": [
  {
   "cell_type": "code",
   "execution_count": 1,
   "id": "7520766a",
   "metadata": {},
   "outputs": [],
   "source": [
    "import torch\n",
    "import numpy as np\n",
    "import matplotlib.pyplot as plt\n",
    "import pandas as pd\n",
    "from sklearn.model_selection import train_test_split\n",
    "from sklearn.metrics import mean_squared_error, mean_absolute_error\n"
   ]
  },
  {
   "cell_type": "code",
   "execution_count": 2,
   "id": "d4939bef",
   "metadata": {},
   "outputs": [],
   "source": [
    "data = pd.read_csv('Wave_Current_ Speeds_TimeSeries(8.5m).csv', index_col=['DateTime'], parse_dates=['DateTime'])\n"
   ]
  },
  {
   "cell_type": "code",
   "execution_count": 4,
   "id": "210cd76b",
   "metadata": {},
   "outputs": [],
   "source": [
    "X = data[['Wave Speed']].values  # Input: Wave Speed\n",
    "y = data['Current Speed'].values  # Output: Current Speed\n"
   ]
  },
  {
   "cell_type": "code",
   "execution_count": 5,
   "id": "f3683844",
   "metadata": {},
   "outputs": [],
   "source": [
    "X_train, X_test, y_train, y_test = train_test_split(X, y, test_size=0.3, random_state=42)\n"
   ]
  },
  {
   "cell_type": "code",
   "execution_count": 6,
   "id": "effc2f6a",
   "metadata": {},
   "outputs": [],
   "source": [
    "# Convert the NumPy arrays to PyTorch tensors\n",
    "X_train = torch.from_numpy(X_train).float()\n",
    "X_test = torch.from_numpy(X_test).float()\n",
    "y_train = torch.from_numpy(y_train).float()\n",
    "y_test = torch.from_numpy(y_test).float()\n"
   ]
  },
  {
   "cell_type": "code",
   "execution_count": 7,
   "id": "0b0d0057",
   "metadata": {},
   "outputs": [],
   "source": [
    "X_train = X_train.requires_grad_()\n"
   ]
  },
  {
   "cell_type": "code",
   "execution_count": 8,
   "id": "0eef5728",
   "metadata": {},
   "outputs": [],
   "source": [
    "class CurrentSpeedPINN(torch.nn.Module):\n",
    "    def __init__(self):\n",
    "        super(CurrentSpeedPINN, self).__init__()\n",
    "        self.dense1 = torch.nn.Linear(1, 32)  # First hidden layer with 32 neurons\n",
    "        self.dense2 = torch.nn.Linear(32, 32)  # Second hidden layer with 32 neurons\n",
    "        self.output_layer = torch.nn.Linear(32, 1)  # Output layer with one neuron for predicting Current Speed\n",
    "\n",
    "    def forward(self, inputs):\n",
    "        x = self.dense1(inputs)  # Pass input through the first hidden layer\n",
    "        x = self.dense2(x)  # Pass through the second hidden layer\n",
    "        output = self.output_layer(x)  # Output prediction\n",
    "        return output"
   ]
  },
  {
   "cell_type": "code",
   "execution_count": 9,
   "id": "6c2c76e5",
   "metadata": {},
   "outputs": [],
   "source": [
    "def physics_loss(model, X):\n",
    "    predictions = model(X)\n",
    "    u_pred = predictions[:, 0]\n",
    "    v_pred = predictions[:, 0]  # Both u_pred and v_pred have the same value.\n",
    "\n",
    "    # Physics-based equations\n",
    "    g = 9.81\n",
    "    f = 1.0e-4\n",
    "    h = 1.5\n",
    "    u = u_pred  # Define u based on predictions\n",
    "    v = v_pred  # Define v based on predictions\n",
    "\n",
    "\n",
    "# Compute the spatial derivatives of u and v\n",
    "    u_x = torch.autograd.grad(u, X, grad_outputs=torch.ones_like(u), create_graph=True, retain_graph=True)[0]\n",
    "    u_y = torch.autograd.grad(u, X, grad_outputs=torch.ones_like(u), create_graph=True, retain_graph=True)[0]\n",
    "    v_x = torch.autograd.grad(v, X, grad_outputs=torch.ones_like(v), create_graph=True, retain_graph=True)[0]\n",
    "    v_y = torch.autograd.grad(v, X, grad_outputs=torch.ones_like(v), create_graph=True, retain_graph=True)[0]\n",
    "\n",
    "\n",
    "    h_x = 1.5  # Define h_x based on data or calculations\n",
    "    h_y = 1.5  # Define h_y based on data or calculations\n",
    "\n",
    "    physics_equations = [\n",
    "        -u * u_x - v * u_y - f * u + g * h_x,\n",
    "        -u * v_x - v * v_y + f * v + g * h_y\n",
    "    ]\n",
    "\n",
    "\n",
    "    # Compute the data loss\n",
    "    data_loss = torch.mean(torch.abs(predictions.detach() - y))\n",
    "\n",
    "\n",
    "# Compute the physics loss\n",
    "    physics_equations = torch.stack(physics_equations)\n",
    "    physics_loss_value = torch.mean(torch.abs(physics_equations))\n",
    "\n",
    "\n",
    "\n",
    "    # Compute the total loss\n",
    "    total_loss = data_loss + physics_loss_value\n",
    "    \n",
    "    total_loss = torch.mean(torch.abs(total_loss))\n",
    "    \n",
    "    return physics_loss_value, data_loss, total_loss"
   ]
  },
  {
   "cell_type": "code",
   "execution_count": 10,
   "id": "14178f2c",
   "metadata": {},
   "outputs": [],
   "source": [
    "# Define training hyperparameters\n",
    "learning_rate = 0.009  # Learning rate for optimization\n",
    "epochs = 10000  # Number of training epochs\n",
    "\n",
    "model = CurrentSpeedPINN()\n",
    "optimizer = torch.optim.Adam(model.parameters(), lr=learning_rate)\n"
   ]
  },
  {
   "cell_type": "code",
   "execution_count": 11,
   "id": "66816044",
   "metadata": {},
   "outputs": [
    {
     "name": "stdout",
     "output_type": "stream",
     "text": [
      "Epoch [0/10000] - Physics Loss: 14.718162536621094, Data Loss: 0.15163036479579, Total Loss: 14.869792901416885\n",
      "Epoch [100/10000] - Physics Loss: 0.4963523745536804, Data Loss: 7.177422068388708, Total Loss: 7.673774442942388\n",
      "Epoch [200/10000] - Physics Loss: 0.7901409268379211, Data Loss: 7.93539880864043, Total Loss: 8.725539735478351\n",
      "Epoch [300/10000] - Physics Loss: 0.295193612575531, Data Loss: 8.0072290558556, Total Loss: 8.30242266843113\n",
      "Epoch [400/10000] - Physics Loss: 0.9190394282341003, Data Loss: 7.650084454101847, Total Loss: 8.569123882335948\n",
      "Epoch [500/10000] - Physics Loss: 0.2593023180961609, Data Loss: 8.636488687174467, Total Loss: 8.895791005270627\n",
      "Epoch [600/10000] - Physics Loss: 0.24128100275993347, Data Loss: 8.858483573032965, Total Loss: 9.099764575792898\n",
      "Epoch [700/10000] - Physics Loss: 0.2402370125055313, Data Loss: 8.892793879075146, Total Loss: 9.133030891580677\n",
      "Epoch [800/10000] - Physics Loss: 0.2481188178062439, Data Loss: 8.730678178277984, Total Loss: 8.978796996084228\n",
      "Epoch [900/10000] - Physics Loss: 0.3744822144508362, Data Loss: 7.388459243817236, Total Loss: 7.762941458268072\n",
      "Epoch [1000/10000] - Physics Loss: 0.24722884595394135, Data Loss: 8.993216384515508, Total Loss: 9.240445230469449\n",
      "Epoch [1100/10000] - Physics Loss: 0.24833406507968903, Data Loss: 9.543185904533058, Total Loss: 9.791519969612747\n",
      "Epoch [1200/10000] - Physics Loss: 0.25685369968414307, Data Loss: 8.579611963654118, Total Loss: 8.836465663338261\n",
      "Epoch [1300/10000] - Physics Loss: 0.2422807812690735, Data Loss: 8.835431637318665, Total Loss: 9.077712418587739\n",
      "Epoch [1400/10000] - Physics Loss: 0.34794288873672485, Data Loss: 8.476139280032022, Total Loss: 8.824082168768747\n",
      "Epoch [1500/10000] - Physics Loss: 0.23748889565467834, Data Loss: 9.767121432633191, Total Loss: 10.00461032828787\n",
      "Epoch [1600/10000] - Physics Loss: 0.5344167351722717, Data Loss: 8.509188396392545, Total Loss: 9.043605131564817\n",
      "Epoch [1700/10000] - Physics Loss: 0.3505839407444, Data Loss: 10.263843799489937, Total Loss: 10.614427740234337\n",
      "Epoch [1800/10000] - Physics Loss: 0.18642815947532654, Data Loss: 10.105155288719203, Total Loss: 10.29158344819453\n",
      "Epoch [1900/10000] - Physics Loss: 0.2799128293991089, Data Loss: 9.518359902967216, Total Loss: 9.798272732366325\n",
      "Epoch [2000/10000] - Physics Loss: 0.23792660236358643, Data Loss: 9.708633178308123, Total Loss: 9.94655978067171\n",
      "Epoch [2100/10000] - Physics Loss: 0.516192615032196, Data Loss: 10.47008470271567, Total Loss: 10.986277317747867\n",
      "Epoch [2200/10000] - Physics Loss: 0.3205503225326538, Data Loss: 10.337542603266417, Total Loss: 10.658092925799071\n",
      "Epoch [2300/10000] - Physics Loss: 0.30891153216362, Data Loss: 10.3137609585379, Total Loss: 10.62267249070152\n",
      "Epoch [2400/10000] - Physics Loss: 0.22038701176643372, Data Loss: 9.658098423448196, Total Loss: 9.87848543521463\n",
      "Epoch [2500/10000] - Physics Loss: 0.28507328033447266, Data Loss: 9.24269773614664, Total Loss: 9.527771016481113\n",
      "Epoch [2600/10000] - Physics Loss: 0.2901478111743927, Data Loss: 10.790902381726928, Total Loss: 11.081050192901321\n",
      "Epoch [2700/10000] - Physics Loss: 0.35839709639549255, Data Loss: 10.63047570169689, Total Loss: 10.988872798092382\n",
      "Epoch [2800/10000] - Physics Loss: 0.2001800835132599, Data Loss: 9.757670384246572, Total Loss: 9.957850467759831\n",
      "Epoch [2900/10000] - Physics Loss: 0.2272309809923172, Data Loss: 10.908407235902402, Total Loss: 11.13563821689472\n",
      "Epoch [3000/10000] - Physics Loss: 0.20912735164165497, Data Loss: 10.107788211608058, Total Loss: 10.316915563249713\n",
      "Epoch [3100/10000] - Physics Loss: 0.34588101506233215, Data Loss: 9.317328864721961, Total Loss: 9.663209879784294\n",
      "Epoch [3200/10000] - Physics Loss: 0.27698278427124023, Data Loss: 10.831239296892035, Total Loss: 11.108222081163275\n",
      "Epoch [3300/10000] - Physics Loss: 0.18740999698638916, Data Loss: 10.141166770568999, Total Loss: 10.328576767555388\n",
      "Epoch [3400/10000] - Physics Loss: 0.18349814414978027, Data Loss: 10.261834088027205, Total Loss: 10.445332232176986\n",
      "Epoch [3500/10000] - Physics Loss: 0.6353543400764465, Data Loss: 8.56565477617458, Total Loss: 9.201009116251026\n",
      "Epoch [3600/10000] - Physics Loss: 0.16329656541347504, Data Loss: 11.12515128400683, Total Loss: 11.288447849420304\n",
      "Epoch [3700/10000] - Physics Loss: 0.651232123374939, Data Loss: 10.382666180575761, Total Loss: 11.0338983039507\n",
      "Epoch [3800/10000] - Physics Loss: 0.5394521355628967, Data Loss: 11.189405034796048, Total Loss: 11.728857170358944\n",
      "Epoch [3900/10000] - Physics Loss: 0.8176275491714478, Data Loss: 8.952255140008182, Total Loss: 9.76988268917963\n",
      "Epoch [4000/10000] - Physics Loss: 0.16139660775661469, Data Loss: 11.08769809391042, Total Loss: 11.249094701667035\n",
      "Epoch [4100/10000] - Physics Loss: 0.17740413546562195, Data Loss: 10.690382490097532, Total Loss: 10.867786625563154\n",
      "Epoch [4200/10000] - Physics Loss: 0.22152920067310333, Data Loss: 10.25043290774609, Total Loss: 10.471962108419193\n",
      "Epoch [4300/10000] - Physics Loss: 0.3222638964653015, Data Loss: 11.389176663219892, Total Loss: 11.711440559685194\n",
      "Epoch [4400/10000] - Physics Loss: 0.20001377165317535, Data Loss: 11.68714710805727, Total Loss: 11.887160879710445\n",
      "Epoch [4500/10000] - Physics Loss: 0.2542960047721863, Data Loss: 9.465147614240495, Total Loss: 9.719443619012681\n",
      "Epoch [4600/10000] - Physics Loss: 0.36666133999824524, Data Loss: 9.64368392137746, Total Loss: 10.010345261375706\n",
      "Epoch [4700/10000] - Physics Loss: 0.20208558440208435, Data Loss: 10.392423058647978, Total Loss: 10.594508643050062\n",
      "Epoch [4800/10000] - Physics Loss: 0.1498328000307083, Data Loss: 11.839260987325005, Total Loss: 11.989093787355714\n",
      "Epoch [4900/10000] - Physics Loss: 0.17807666957378387, Data Loss: 11.552355118614024, Total Loss: 11.730431788187808\n",
      "Epoch [5000/10000] - Physics Loss: 0.15743373334407806, Data Loss: 11.663145542049769, Total Loss: 11.820579275393847\n",
      "Epoch [5100/10000] - Physics Loss: 0.26440393924713135, Data Loss: 9.989156179857599, Total Loss: 10.25356011910473\n",
      "Epoch [5200/10000] - Physics Loss: 0.14129234850406647, Data Loss: 11.824471044234835, Total Loss: 11.965763392738902\n",
      "Epoch [5300/10000] - Physics Loss: 0.20749858021736145, Data Loss: 10.162061715500023, Total Loss: 10.369560295717385\n",
      "Epoch [5400/10000] - Physics Loss: 0.17266899347305298, Data Loss: 11.893788680452882, Total Loss: 12.066457673925935\n",
      "Epoch [5500/10000] - Physics Loss: 0.2362222820520401, Data Loss: 11.096418609776817, Total Loss: 11.332640891828857\n",
      "Epoch [5600/10000] - Physics Loss: 0.1354629546403885, Data Loss: 12.168548286990765, Total Loss: 12.304011241631153\n",
      "Epoch [5700/10000] - Physics Loss: 0.15931828320026398, Data Loss: 11.694560963770355, Total Loss: 11.85387924697062\n",
      "Epoch [5800/10000] - Physics Loss: 0.2742748260498047, Data Loss: 12.398044555267376, Total Loss: 12.67231938131718\n",
      "Epoch [5900/10000] - Physics Loss: 0.2175527960062027, Data Loss: 9.392875352570773, Total Loss: 9.610428148576975\n",
      "Epoch [6000/10000] - Physics Loss: 0.27371060848236084, Data Loss: 9.318671217792382, Total Loss: 9.592381826274742\n",
      "Epoch [6100/10000] - Physics Loss: 0.27240368723869324, Data Loss: 12.186600726563633, Total Loss: 12.459004413802326\n",
      "Epoch [6200/10000] - Physics Loss: 0.21310463547706604, Data Loss: 9.708756907500918, Total Loss: 9.921861542977984\n",
      "Epoch [6300/10000] - Physics Loss: 0.1880752593278885, Data Loss: 12.11627136287584, Total Loss: 12.30434662220373\n",
      "Epoch [6400/10000] - Physics Loss: 0.15174368023872375, Data Loss: 11.770602879875243, Total Loss: 11.922346560113967\n",
      "Epoch [6500/10000] - Physics Loss: 0.5337128043174744, Data Loss: 11.891043192218309, Total Loss: 12.424755996535783\n",
      "Epoch [6600/10000] - Physics Loss: 0.24427731335163116, Data Loss: 12.71346685226998, Total Loss: 12.95774416562161\n",
      "Epoch [6700/10000] - Physics Loss: 0.15369261801242828, Data Loss: 11.716735469726173, Total Loss: 11.8704280877386\n",
      "Epoch [6800/10000] - Physics Loss: 0.16087526082992554, Data Loss: 12.438288176505493, Total Loss: 12.599163437335418\n",
      "Epoch [6900/10000] - Physics Loss: 0.28308767080307007, Data Loss: 12.059669541049933, Total Loss: 12.342757211853003\n",
      "Epoch [7000/10000] - Physics Loss: 0.17906706035137177, Data Loss: 10.937354654923869, Total Loss: 11.11642171527524\n"
     ]
    },
    {
     "name": "stdout",
     "output_type": "stream",
     "text": [
      "Epoch [7100/10000] - Physics Loss: 0.13815639913082123, Data Loss: 12.123199461072806, Total Loss: 12.261355860203627\n",
      "Epoch [7200/10000] - Physics Loss: 0.6253796815872192, Data Loss: 10.85965525247422, Total Loss: 11.485034934061439\n",
      "Epoch [7300/10000] - Physics Loss: 0.15732842683792114, Data Loss: 11.341697884391504, Total Loss: 11.499026311229425\n",
      "Epoch [7400/10000] - Physics Loss: 0.2753629684448242, Data Loss: 12.767717247840764, Total Loss: 13.043080216285588\n",
      "Epoch [7500/10000] - Physics Loss: 0.13133227825164795, Data Loss: 12.079997045551368, Total Loss: 12.211329323803016\n",
      "Epoch [7600/10000] - Physics Loss: 0.2963687777519226, Data Loss: 12.481285627852804, Total Loss: 12.777654405604727\n",
      "Epoch [7700/10000] - Physics Loss: 0.1532464325428009, Data Loss: 11.99507460839271, Total Loss: 12.14832104093551\n",
      "Epoch [7800/10000] - Physics Loss: 0.33920031785964966, Data Loss: 11.054574799222518, Total Loss: 11.393775117082168\n",
      "Epoch [7900/10000] - Physics Loss: 0.1771618276834488, Data Loss: 12.829422549616368, Total Loss: 13.006584377299816\n",
      "Epoch [8000/10000] - Physics Loss: 0.22439797222614288, Data Loss: 13.08822795015388, Total Loss: 13.312625922380024\n",
      "Epoch [8100/10000] - Physics Loss: 0.23436756432056427, Data Loss: 13.070910337889867, Total Loss: 13.305277902210431\n",
      "Epoch [8200/10000] - Physics Loss: 0.11954735219478607, Data Loss: 12.826636892206112, Total Loss: 12.946184244400898\n",
      "Epoch [8300/10000] - Physics Loss: 0.21567314863204956, Data Loss: 12.642396310973902, Total Loss: 12.858069459605952\n",
      "Epoch [8400/10000] - Physics Loss: 0.27302443981170654, Data Loss: 11.049728048705079, Total Loss: 11.322752488516786\n",
      "Epoch [8500/10000] - Physics Loss: 0.1397775113582611, Data Loss: 12.932882828198242, Total Loss: 13.072660339556503\n",
      "Epoch [8600/10000] - Physics Loss: 0.15708070993423462, Data Loss: 11.90378243346115, Total Loss: 12.060863143395384\n",
      "Epoch [8700/10000] - Physics Loss: 0.12591803073883057, Data Loss: 12.942795513912587, Total Loss: 13.068713544651418\n",
      "Epoch [8800/10000] - Physics Loss: 0.14393571019172668, Data Loss: 12.377358755210413, Total Loss: 12.52129446540214\n",
      "Epoch [8900/10000] - Physics Loss: 0.7349604368209839, Data Loss: 13.127026143011571, Total Loss: 13.861986579832555\n",
      "Epoch [9000/10000] - Physics Loss: 0.1476960927248001, Data Loss: 12.679618756678954, Total Loss: 12.827314849403754\n",
      "Epoch [9100/10000] - Physics Loss: 0.11333181709051132, Data Loss: 12.992640829240148, Total Loss: 13.10597264633066\n",
      "Epoch [9200/10000] - Physics Loss: 0.26995429396629333, Data Loss: 11.140174143002092, Total Loss: 11.410128436968385\n",
      "Epoch [9300/10000] - Physics Loss: 0.18959780037403107, Data Loss: 13.265362584223126, Total Loss: 13.454960384597157\n",
      "Epoch [9400/10000] - Physics Loss: 0.8653934597969055, Data Loss: 12.37892079908533, Total Loss: 13.244314258882236\n",
      "Epoch [9500/10000] - Physics Loss: 0.12120436131954193, Data Loss: 13.113496636923934, Total Loss: 13.234700998243476\n",
      "Epoch [9600/10000] - Physics Loss: 0.2633787989616394, Data Loss: 13.463082296788704, Total Loss: 13.726461095750343\n",
      "Epoch [9700/10000] - Physics Loss: 0.11263677477836609, Data Loss: 13.467797718963809, Total Loss: 13.580434493742175\n",
      "Epoch [9800/10000] - Physics Loss: 0.41526350378990173, Data Loss: 11.90540195545174, Total Loss: 12.320665459241642\n",
      "Epoch [9900/10000] - Physics Loss: 0.13510777056217194, Data Loss: 13.625512359804379, Total Loss: 13.76062013036655\n"
     ]
    }
   ],
   "source": [
    "# Training Loop\n",
    "losses = {'physics_loss': [], 'data_loss': [], 'total_loss': []}\n",
    "\n",
    "for epoch in range(epochs):\n",
    "    optimizer.zero_grad()\n",
    "    physics_loss_value, data_loss, total_loss = physics_loss(model, X_train)\n",
    "    total_loss.backward()\n",
    "    optimizer.step()\n",
    "    \n",
    "    # Append losses to the dictionary for analysis\n",
    "    losses['physics_loss'].append(physics_loss_value.item())\n",
    "    losses['data_loss'].append(data_loss.item())\n",
    "    losses['total_loss'].append(total_loss.item())\n",
    "\n",
    "    if epoch % 100 == 0:\n",
    "        print(f\"Epoch [{epoch}/{epochs}] - Physics Loss: {physics_loss_value.item()}, Data Loss: {data_loss.item()}, Total Loss: {total_loss.item()}\")\n"
   ]
  },
  {
   "cell_type": "code",
   "execution_count": 12,
   "id": "3aae0a3d",
   "metadata": {},
   "outputs": [
    {
     "data": {
      "image/png": "[encoded data removed]",
      "text/plain": [
       "<Figure size 720x360 with 1 Axes>"
      ]
     },
     "metadata": {
      "needs_background": "light"
     },
     "output_type": "display_data"
    }
   ],
   "source": [
    "import matplotlib.pyplot as plt\n",
    "\n",
    "plt.figure(figsize=(10, 5))\n",
    "plt.plot(range(epochs), losses['physics_loss'], label='Physics Loss')\n",
    "plt.plot(range(epochs), losses['data_loss'], label='Data Loss')\n",
    "plt.plot(range(epochs), losses['total_loss'], label='Total Loss')\n",
    "plt.xlabel('Epochs')\n",
    "plt.ylabel('Loss')\n",
    "plt.legend()\n",
    "plt.show()"
   ]
  },
  {
   "cell_type": "code",
   "execution_count": 16,
   "id": "85121819",
   "metadata": {},
   "outputs": [
    {
     "name": "stdout",
     "output_type": "stream",
     "text": [
      "Mean Squared Error: 160.708251953125\n",
      "Mean Absolute Error: 12.676233291625977\n"
     ]
    }
   ],
   "source": [
    "# After training, evaluate the model on the test data\n",
    "with torch.no_grad():\n",
    "    y_pred = model(X_test)\n",
    "\n",
    "    # Convert tensors to NumPy arrays for plotting\n",
    "    y_test_numpy = y_test.cpu().numpy()\n",
    "    y_pred_numpy = y_pred.cpu().numpy()\n",
    "\n",
    "    mse = torch.mean(torch.square(y_test - y_pred)).item()\n",
    "    mae = torch.mean(torch.abs(y_test - y_pred)).item()\n",
    "\n",
    "    print(f\"Mean Squared Error: {mse}\")\n",
    "    print(f\"Mean Absolute Error: {mae}\")\n",
    "\n",
    "    "
   ]
  },
  {
   "cell_type": "code",
   "execution_count": null,
   "id": "89f08dff",
   "metadata": {},
   "outputs": [],
   "source": []
  },
  {
   "cell_type": "code",
   "execution_count": null,
   "id": "d57a1018",
   "metadata": {},
   "outputs": [],
   "source": []
  },
  {
   "cell_type": "code",
   "execution_count": null,
   "id": "92d27f13",
   "metadata": {},
   "outputs": [],
   "source": []
  },
  {
   "cell_type": "code",
   "execution_count": null,
   "id": "d11c7c9a",
   "metadata": {},
   "outputs": [],
   "source": []
  },
  {
   "cell_type": "code",
   "execution_count": null,
   "id": "7648402d",
   "metadata": {},
   "outputs": [],
   "source": []
  },
  {
   "cell_type": "code",
   "execution_count": null,
   "id": "0bdcb78a",
   "metadata": {},
   "outputs": [],
   "source": []
  },
  {
   "cell_type": "code",
   "execution_count": null,
   "id": "a220ba34",
   "metadata": {},
   "outputs": [],
   "source": []
  }
 ],
 "metadata": {
  "kernelspec": {
   "display_name": "Python 3 (ipykernel)",
   "language": "python",
   "name": "python3"
  },
  "language_info": {
   "codemirror_mode": {
    "name": "ipython",
    "version": 3
   },
   "file_extension": ".py",
   "mimetype": "text/x-python",
   "name": "python",
   "nbconvert_exporter": "python",
   "pygments_lexer": "ipython3",
   "version": "3.9.12"
  }
 },
 "nbformat": 4,
 "nbformat_minor": 5
}
