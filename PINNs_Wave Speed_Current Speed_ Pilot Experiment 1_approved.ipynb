{
 "cells": [
  {
   "cell_type": "markdown",
   "id": "129349b0",
   "metadata": {},
   "source": [
    "This code is a pilot experiment for solving a regression problem using a Physics-Informed Neural Network (PINN). Here's a brief summary and explanation of the code:\n",
    "\n",
    "    Data Loading and Preprocessing:\n",
    "        It starts by loading a dataset from a CSV file (Wave_Current_ Speeds_TimeSeries(11.5m).csv).\n",
    "        The dataset contains information about Wave Speed and Current Speed of 11.5 meters depth\n",
    "\n",
    "    Data Splitting:\n",
    "        It splits the dataset into training and testing sets, with 70% of the data used for training and30% for testing.\n",
    "\n",
    "    Model Definition (PINN):\n",
    "        It defines a PINN model using TensorFlow's Keras API.\n",
    "        The model consists of two hidden layers with 32 neurons each and uses ReLU activation functions.\n",
    "        The output layer has a single neuron, which will predict the Current Speed.\n",
    "\n",
    "    Physics-Informed Loss Function:\n",
    "        It defines a custom loss function called physics_loss.\n",
    "        Inside this loss function, it uses TensorFlow's GradientTape to calculate gradients during training.\n",
    "        The loss enforces a physics-based equation where the predicted Current Speed should be equal to the Wave Speed.\n",
    "\n",
    "    Training Parameters:\n",
    "        It sets the learning rate and the number of training epochs.\n",
    "\n",
    "    Model Training:\n",
    "        It creates an instance of the PINN model and an optimizer (Adam) for training.\n",
    "        During the training loop, it iteratively minimizes the physics-informed loss by adjusting the model's weights.\n",
    "        It stores the training loss at each epoch for plotting a learning curve.\n",
    "\n",
    "    Learning Curve Visualization:\n",
    "        After training, it plots the learning curve to show how the loss decreases over epochs.\n",
    "\n",
    "    Results Visualization:\n",
    "        It makes predictions on the test data and plots the results.\n",
    "        The scatter plot shows the relationship between Wave Speed and Actual Current Speed.\n",
    "        The color of each point on the scatter plot represents the Predicted Current Speed.\n",
    "        The goal is to see how well the PINN model predicts the Current Speed based on the physics-based equation.\n",
    "\n",
    "This work provides a starting point for building and training a PINN to forecast Current Speed based on Wave Speed. "
   ]
  },
  {
   "cell_type": "code",
   "execution_count": 1,
   "id": "3b44fe62",
   "metadata": {},
   "outputs": [],
   "source": [
    "import tensorflow as tf\n",
    "import numpy as np\n",
    "import matplotlib.pyplot as plt\n",
    "import pandas as pd\n",
    "from sklearn.model_selection import train_test_split\n",
    "from sklearn.metrics import mean_squared_error, mean_absolute_error"
   ]
  },
  {
   "cell_type": "code",
   "execution_count": 2,
   "id": "b3785b42",
   "metadata": {},
   "outputs": [],
   "source": [
    "\n",
    "data = pd.read_csv('Wave_Current_ Speeds_TimeSeries(1.5m).csv') \n"
   ]
  },
  {
   "cell_type": "code",
   "execution_count": 3,
   "id": "37d033b2",
   "metadata": {},
   "outputs": [],
   "source": [
    "X = data[['Wave Speed']].values  # Input: Wave Speed\n",
    "y = data['Current speed'].values  # Output: Current Speed\n"
   ]
  },
  {
   "cell_type": "code",
   "execution_count": 4,
   "id": "ec3ec473",
   "metadata": {},
   "outputs": [],
   "source": [
    "X_train, X_test, y_train, y_test = train_test_split(X, y, test_size=0.3, random_state=42)\n"
   ]
  },
  {
   "cell_type": "code",
   "execution_count": 6,
   "id": "9d477d4c",
   "metadata": {},
   "outputs": [],
   "source": [
    "class CurrentSpeedPINN(tf.keras.Model):\n",
    "    def __init__(self):\n",
    "        super(CurrentSpeedPINN, self).__init__()\n",
    "        self.dense1 = tf.keras.layers.Dense(32, activation='relu')  # First hidden layer with 32 neurons and ReLU activation\n",
    "        self.dense2 = tf.keras.layers.Dense(32, activation='relu')  # Second hidden layer with 32 neurons and ReLU activation\n",
    "        self.output_layer = tf.keras.layers.Dense(1)  # Output layer with one neuron for predicting Current Speed\n",
    "\n",
    "    def call(self, inputs):\n",
    "        x = self.dense1(inputs)  # Pass input through the first hidden layer\n",
    "        x = self.dense2(x)  # Pass through the second hidden layer\n",
    "        output = self.output_layer(x)  # Output prediction\n",
    "        return output"
   ]
  },
  {
   "cell_type": "code",
   "execution_count": 7,
   "id": "875503ff",
   "metadata": {},
   "outputs": [],
   "source": [
    "def physics_loss(model, X):\n",
    "    with tf.GradientTape(persistent=True) as tape:\n",
    "        tape.watch(X)\n",
    "        predictions = model(X)  # Predict Current Speed based on Wave Speed\n",
    "        wave_speed = X  # Extract Wave Speed\n",
    "        current_speed_pred = predictions\n",
    "\n",
    "        # Define a physics-based equation (customize as per the problem)\n",
    "        physics_equation = current_speed_pred - wave_speed  # Predicted Current Speed should equal Wave Speed\n",
    "\n",
    "    physics_loss_value = tf.reduce_mean(tf.square(physics_equation))  # Calculate the mean squared loss\n",
    "    return physics_loss_value"
   ]
  },
  {
   "cell_type": "code",
   "execution_count": 8,
   "id": "0e8ad735",
   "metadata": {},
   "outputs": [],
   "source": [
    "# Define training hyperparameters\n",
    "learning_rate = 0.001  # Learning rate for optimization\n",
    "epochs = 10000 # Number of training epochs\n",
    "\n",
    "model = CurrentSpeedPINN()\n",
    "optimizer = tf.optimizers.Adam(learning_rate)"
   ]
  },
  {
   "cell_type": "code",
   "execution_count": 9,
   "id": "0760f1b9",
   "metadata": {},
   "outputs": [],
   "source": [
    "train_total_loss_curve = []  # Total loss (Data Loss + Physics Loss)\n",
    "train_data_loss_curve = []  # Data Loss (MSE) component\n",
    "train_physics_loss_curve = []  # Physics Loss component"
   ]
  },
  {
   "cell_type": "code",
   "execution_count": 11,
   "id": "e6768b5f",
   "metadata": {},
   "outputs": [
    {
     "name": "stdout",
     "output_type": "stream",
     "text": [
      "Epoch 0, Total Loss: 0.264213171754291, Data Loss (MSE): 0.0029386253694796117, Physics Loss: 0.2583359181880951\n",
      "Epoch 100, Total Loss: 0.48410080489154295, Data Loss (MSE): 0.24120470997329194, Physics Loss: 0.0016913930885493755\n",
      "Epoch 200, Total Loss: 0.502517261142901, Data Loss (MSE): 0.2512447615815911, Physics Loss: 2.773143569356762e-05\n",
      "Epoch 300, Total Loss: 0.5042672075829957, Data Loss (MSE): 0.25212963600973826, Physics Loss: 7.939654096844606e-06\n",
      "Epoch 400, Total Loss: 0.50464165377915, Data Loss (MSE): 0.25231883096993063, Physics Loss: 3.97961866838159e-06\n",
      "Epoch 500, Total Loss: 0.5047954611779749, Data Loss (MSE): 0.2523964636327326, Physics Loss: 2.5289666609751293e-06\n",
      "Epoch 600, Total Loss: 0.5048757767815576, Data Loss (MSE): 0.2524369931359277, Physics Loss: 1.781180458237941e-06\n",
      "Epoch 700, Total Loss: 0.504923255348266, Data Loss (MSE): 0.2524609576702722, Physics Loss: 1.328772214037599e-06\n",
      "Epoch 800, Total Loss: 0.5049513192448596, Data Loss (MSE): 0.25247513368463315, Physics Loss: 1.0463091939527658e-06\n",
      "Epoch 900, Total Loss: 0.5049710850091402, Data Loss (MSE): 0.25248512428717057, Physics Loss: 8.467756060781539e-07\n",
      "Epoch 1000, Total Loss: 0.5049877651540962, Data Loss (MSE): 0.25249351938650283, Physics Loss: 7.029812536529789e-07\n",
      "Epoch 1100, Total Loss: 0.5050004673997928, Data Loss (MSE): 0.25249993334217563, Physics Loss: 5.95860740304488e-07\n",
      "Epoch 1200, Total Loss: 0.5050109331549728, Data Loss (MSE): 0.25250521349326016, Physics Loss: 5.12972803790035e-07\n",
      "Epoch 1300, Total Loss: 0.5050215484588563, Data Loss (MSE): 0.252510553786081, Physics Loss: 4.5061565856485686e-07\n",
      "Epoch 1400, Total Loss: 0.5050277372345156, Data Loss (MSE): 0.25251367292253435, Physics Loss: 4.0211199348050286e-07\n",
      "Epoch 1500, Total Loss: 0.5050327655471347, Data Loss (MSE): 0.252516197840073, Physics Loss: 3.6261249647395744e-07\n",
      "Epoch 1600, Total Loss: 0.5050381722869288, Data Loss (MSE): 0.2525189223708522, Physics Loss: 3.314027310352685e-07\n",
      "Epoch 1700, Total Loss: 0.5050409946456058, Data Loss (MSE): 0.252520344020377, Physics Loss: 3.0658424066132284e-07\n",
      "Epoch 1800, Total Loss: 0.5050435798052215, Data Loss (MSE): 0.25252164768013, Physics Loss: 2.85299137203765e-07\n",
      "Epoch 1900, Total Loss: 0.5050454297362948, Data Loss (MSE): 0.2525225737392093, Physics Loss: 2.6557060550658207e-07\n",
      "Epoch 2000, Total Loss: 0.5050472007893017, Data Loss (MSE): 0.2525234805248668, Physics Loss: 2.47463617597532e-07\n",
      "Epoch 2100, Total Loss: 0.5050488775223896, Data Loss (MSE): 0.25252432279292797, Physics Loss: 2.309832609626028e-07\n",
      "Epoch 2200, Total Loss: 0.5050502718794523, Data Loss (MSE): 0.2525250316965757, Physics Loss: 2.1387076287737727e-07\n",
      "Epoch 2300, Total Loss: 0.5050525109611081, Data Loss (MSE): 0.25252616809230327, Physics Loss: 1.9030336773084855e-07\n",
      "Epoch 2400, Total Loss: 0.5050514823485387, Data Loss (MSE): 0.25252564611921435, Physics Loss: 1.6581370232415793e-07\n",
      "Epoch 2500, Total Loss: 0.5050540368562999, Data Loss (MSE): 0.2525269489294353, Physics Loss: 1.4332050568555132e-07\n",
      "Epoch 2600, Total Loss: 0.5050535180156404, Data Loss (MSE): 0.25252669830967717, Physics Loss: 1.2262354687209154e-07\n",
      "Epoch 2700, Total Loss: 0.5050549518616398, Data Loss (MSE): 0.25252741689993946, Physics Loss: 1.0493815238987736e-07\n",
      "Epoch 2800, Total Loss: 0.5050549159945911, Data Loss (MSE): 0.252527410835213, Physics Loss: 8.956518371405764e-08\n",
      "Epoch 2900, Total Loss: 0.5050564236090046, Data Loss (MSE): 0.25252817339156686, Physics Loss: 7.692356973620917e-08\n",
      "Epoch 3000, Total Loss: 0.5050571054568502, Data Loss (MSE): 0.25252852741386617, Physics Loss: 6.6708132351323e-08\n",
      "Epoch 3100, Total Loss: 0.5050563160943438, Data Loss (MSE): 0.2525281254815508, Physics Loss: 5.8352853216092626e-08\n",
      "Epoch 3200, Total Loss: 0.5050571081699972, Data Loss (MSE): 0.25252853012701315, Physics Loss: 5.1259060995789696e-08\n",
      "Epoch 3300, Total Loss: 0.5050565626213687, Data Loss (MSE): 0.25252825279928615, Physics Loss: 4.538114950491945e-08\n",
      "Epoch 3400, Total Loss: 0.505056721406413, Data Loss (MSE): 0.2525283519796857, Physics Loss: 4.063554825961546e-08\n",
      "Epoch 3500, Total Loss: 0.505056938242427, Data Loss (MSE): 0.2525284496064102, Physics Loss: 3.6534736125304335e-08\n",
      "Epoch 3600, Total Loss: 0.5050573088739707, Data Loss (MSE): 0.25252864142401954, Physics Loss: 3.323331654314643e-08\n",
      "Epoch 3700, Total Loss: 0.5050576120360621, Data Loss (MSE): 0.25252879557449903, Physics Loss: 3.046649510451971e-08\n",
      "Epoch 3800, Total Loss: 0.5050574193084458, Data Loss (MSE): 0.25252869225384994, Physics Loss: 2.8115314520960055e-08\n",
      "Epoch 3900, Total Loss: 0.505057910151413, Data Loss (MSE): 0.2525289446782379, Physics Loss: 2.6166198097143933e-08\n",
      "Epoch 4000, Total Loss: 0.5050571981762326, Data Loss (MSE): 0.25252859033092623, Physics Loss: 2.4531413345130204e-08\n",
      "Epoch 4100, Total Loss: 0.5050580291401816, Data Loss (MSE): 0.2525290040623618, Physics Loss: 2.3055243048020202e-08\n",
      "Epoch 4200, Total Loss: 0.5050580140029847, Data Loss (MSE): 0.25252898892516484, Physics Loss: 2.1757072588002302e-08\n",
      "Epoch 4300, Total Loss: 0.5050581858399881, Data Loss (MSE): 0.25252907135520114, Physics Loss: 2.0610954720723385e-08\n",
      "Epoch 4400, Total Loss: 0.505058194408257, Data Loss (MSE): 0.25252907992347, Physics Loss: 1.74762870841505e-08\n",
      "Epoch 4500, Total Loss: 0.5050572748806399, Data Loss (MSE): 0.2525286372330111, Physics Loss: 1.4846774476495739e-08\n",
      "Epoch 4600, Total Loss: 0.505057998848133, Data Loss (MSE): 0.2525290035726356, Physics Loss: 1.301647767348868e-08\n",
      "Epoch 4700, Total Loss: 0.5050577527858466, Data Loss (MSE): 0.25252887671963875, Physics Loss: 1.1547069966866275e-08\n",
      "Epoch 4800, Total Loss: 0.5050571453132426, Data Loss (MSE): 0.2525285672702586, Physics Loss: 1.037005414872283e-08\n",
      "Epoch 4900, Total Loss: 0.5050578168710209, Data Loss (MSE): 0.2525289110024907, Physics Loss: 9.421807334319965e-09\n",
      "Epoch 5000, Total Loss: 0.5051934167792695, Data Loss (MSE): 0.2525967106273073, Physics Loss: 1.3548404176333406e-08\n",
      "Epoch 5100, Total Loss: 0.5050118632630338, Data Loss (MSE): 0.25250593498506446, Physics Loss: 8.588618705118733e-09\n",
      "Epoch 5200, Total Loss: 0.5050283682810587, Data Loss (MSE): 0.25251418475978793, Physics Loss: 7.72291386397228e-09\n",
      "Epoch 5300, Total Loss: 0.5050585833405966, Data Loss (MSE): 0.2525292900418753, Physics Loss: 7.002701085667695e-09\n",
      "Epoch 5400, Total Loss: 0.5050002832485485, Data Loss (MSE): 0.25250013662112236, Physics Loss: 7.43099803912628e-09\n",
      "Epoch 5500, Total Loss: 0.5048807945780236, Data Loss (MSE): 0.2524404016069847, Physics Loss: 1.4461000397147927e-08\n",
      "Epoch 5600, Total Loss: 0.5050634133327552, Data Loss (MSE): 0.2525317060459205, Physics Loss: 5.872798691797243e-09\n",
      "Epoch 5700, Total Loss: 0.5050482125086557, Data Loss (MSE): 0.25252410481402987, Physics Loss: 5.611884290601665e-09\n",
      "Epoch 5800, Total Loss: 0.5053086629817214, Data Loss (MSE): 0.25265431913826136, Physics Loss: 2.2163717972034647e-08\n",
      "Epoch 5900, Total Loss: 0.5050671244269731, Data Loss (MSE): 0.25253356939615035, Physics Loss: 4.946690168594614e-09\n",
      "Epoch 6000, Total Loss: 0.5045511624053798, Data Loss (MSE): 0.2522755464748225, Physics Loss: 7.18349042472255e-08\n",
      "Epoch 6100, Total Loss: 0.5050263411807611, Data Loss (MSE): 0.2525131709384515, Physics Loss: 3.2403693062121874e-09\n",
      "Epoch 6200, Total Loss: 0.5050070303100964, Data Loss (MSE): 0.25250351602024046, Physics Loss: 3.303538109733495e-09\n",
      "Epoch 6300, Total Loss: 0.5056062702577464, Data Loss (MSE): 0.2528030936162821, Physics Loss: 8.302662735104605e-08\n",
      "Epoch 6400, Total Loss: 0.5050505505148977, Data Loss (MSE): 0.25252528052969864, Physics Loss: 2.1717700970924625e-09\n",
      "Epoch 6500, Total Loss: 0.5050601960738494, Data Loss (MSE): 0.2525300981124237, Physics Loss: 2.0634920439022153e-09\n",
      "Epoch 6600, Total Loss: 0.504974477918751, Data Loss (MSE): 0.2524872356969188, Physics Loss: 3.695678207904507e-09\n",
      "Epoch 6700, Total Loss: 0.5051021446773492, Data Loss (MSE): 0.2525510658809625, Physics Loss: 2.36761432681476e-09\n",
      "Epoch 6800, Total Loss: 0.5044545717286245, Data Loss (MSE): 0.25222723556033533, Physics Loss: 9.901250308530507e-08\n",
      "Epoch 6900, Total Loss: 0.5050548310679135, Data Loss (MSE): 0.25252741531550266, Physics Loss: 1.6637777822126054e-09\n"
     ]
    },
    {
     "name": "stdout",
     "output_type": "stream",
     "text": [
      "Epoch 7000, Total Loss: 0.5048933735272041, Data Loss (MSE): 0.25244669226614147, Physics Loss: 9.421906810302971e-09\n",
      "Epoch 7100, Total Loss: 0.5050778462867473, Data Loss (MSE): 0.25253892683789475, Physics Loss: 1.6928745072419815e-09\n",
      "Epoch 7200, Total Loss: 0.5050737179212906, Data Loss (MSE): 0.25253685483268284, Physics Loss: 2.5713355888967726e-09\n",
      "Epoch 7300, Total Loss: 0.5050584584234947, Data Loss (MSE): 0.25252922472941813, Physics Loss: 1.4057405239853438e-09\n",
      "Epoch 7400, Total Loss: 0.504170570268204, Data Loss (MSE): 0.25208518256144746, Physics Loss: 2.109660783844447e-07\n",
      "Epoch 7500, Total Loss: 0.5050660251281645, Data Loss (MSE): 0.25253300653914473, Physics Loss: 1.37853251036546e-09\n",
      "Epoch 7600, Total Loss: 0.5051897668712211, Data Loss (MSE): 0.2525948786609244, Physics Loss: 6.488286796724196e-09\n",
      "Epoch 7700, Total Loss: 0.5050383912608583, Data Loss (MSE): 0.2525192009494263, Physics Loss: 1.4509651258265421e-09\n",
      "Epoch 7800, Total Loss: 0.5050677696820385, Data Loss (MSE): 0.2525338868256694, Physics Loss: 1.3495293771370598e-09\n",
      "Epoch 7900, Total Loss: 0.5049348608205483, Data Loss (MSE): 0.2524674371431038, Physics Loss: 5.384383161555206e-09\n",
      "Epoch 8000, Total Loss: 0.505055002523521, Data Loss (MSE): 0.25252749736414287, Physics Loss: 1.3176932878167236e-09\n",
      "Epoch 8100, Total Loss: 0.5031131383627008, Data Loss (MSE): 0.2515560564249109, Physics Loss: 1.01321063539217e-06\n",
      "Epoch 8200, Total Loss: 0.5050674127892085, Data Loss (MSE): 0.25253370874677383, Physics Loss: 1.41561440347715e-09\n",
      "Epoch 8300, Total Loss: 0.5050575671830857, Data Loss (MSE): 0.2525287805238449, Physics Loss: 1.3061388637325422e-09\n",
      "Epoch 8400, Total Loss: 0.5050672942284238, Data Loss (MSE): 0.2525336497906338, Physics Loss: 1.3095552420239187e-09\n",
      "Epoch 8500, Total Loss: 0.5051551931155831, Data Loss (MSE): 0.2525775902522713, Physics Loss: 4.0131227230233435e-09\n",
      "Epoch 8600, Total Loss: 0.5050589497383442, Data Loss (MSE): 0.25252947762568856, Physics Loss: 1.2893486278642285e-09\n",
      "Epoch 8700, Total Loss: 0.5077501803776616, Data Loss (MSE): 0.2538741201302403, Physics Loss: 1.938165951287374e-06\n",
      "Epoch 8800, Total Loss: 0.5050846339576334, Data Loss (MSE): 0.25254231704402863, Physics Loss: 1.6002356106881166e-09\n",
      "Epoch 8900, Total Loss: 0.5050563935080781, Data Loss (MSE): 0.2525282028952851, Physics Loss: 1.2787544356740455e-09\n",
      "Epoch 9000, Total Loss: 0.504670520264707, Data Loss (MSE): 0.2523352400847297, Physics Loss: 4.107629791860745e-08\n",
      "Epoch 9100, Total Loss: 0.5050972649792644, Data Loss (MSE): 0.2525486299733135, Physics Loss: 1.7753659653507725e-09\n",
      "Epoch 9200, Total Loss: 0.5050533316273317, Data Loss (MSE): 0.2525266609329805, Physics Loss: 1.2554338679748867e-09\n",
      "Epoch 9300, Total Loss: 0.5050833097788779, Data Loss (MSE): 0.25254164851636574, Physics Loss: 1.6832519822429504e-09\n",
      "Epoch 9400, Total Loss: 0.5050578717409795, Data Loss (MSE): 0.2525289360701269, Physics Loss: 1.2646257374626657e-09\n",
      "Epoch 9500, Total Loss: 0.50160517784812, Data Loss (MSE): 0.2508009919808104, Physics Loss: 3.184599790984066e-06\n",
      "Epoch 9600, Total Loss: 0.5050572187692322, Data Loss (MSE): 0.2525286109239257, Physics Loss: 1.3065335480177964e-09\n",
      "Epoch 9700, Total Loss: 0.50505049295616, Data Loss (MSE): 0.2525252527732834, Physics Loss: 1.2441397911899799e-09\n",
      "Epoch 9800, Total Loss: 0.505115994314988, Data Loss (MSE): 0.25255800137980733, Physics Loss: 2.3948523164563085e-09\n",
      "Epoch 9900, Total Loss: 0.5050553734116656, Data Loss (MSE): 0.25252768943835324, Physics Loss: 1.2405643179391745e-09\n"
     ]
    }
   ],
   "source": [
    "# Training loop\n",
    "for epoch in range(epochs):\n",
    "    with tf.GradientTape() as tape:\n",
    "        X_train_tensor = tf.convert_to_tensor(X_train, dtype=tf.float32)\n",
    "        loss_value = physics_loss(model, X_train_tensor)\n",
    "        y_train_pred = model(X_train_tensor)\n",
    "        \n",
    "        # Calculate data fitting (MSE) loss\n",
    "        data_loss = mean_squared_error(y_train, y_train_pred.numpy())\n",
    "        \n",
    "        # Calculate training MSE and MAE\n",
    "        train_mse = data_loss\n",
    "        train_mae = mean_absolute_error(y_train, y_train_pred.numpy())\n",
    "        total_loss = data_loss+ loss_value\n",
    "    grads = tape.gradient(loss_value, model.trainable_variables)  # Use 'loss_value' here\n",
    "    optimizer.apply_gradients(zip(grads, model.trainable_variables))\n",
    "    \n",
    "    train_total_loss_curve.append(loss_value.numpy()+data_loss)\n",
    "    train_data_loss_curve.append(data_loss)\n",
    "    train_physics_loss_curve.append(loss_value)  # You can use 'loss_value' as a placeholder for physics loss\n",
    "    \n",
    "    if epoch % 100 == 0:\n",
    "        print(f\"Epoch {epoch}, Total Loss: {total_loss.numpy()+data_loss}, Data Loss (MSE): {data_loss}, Physics Loss: {loss_value}\")\n"
   ]
  },
  {
   "cell_type": "code",
   "execution_count": 12,
   "id": "22dfb534",
   "metadata": {},
   "outputs": [
    {
     "data": {
      "image/png": "[encoded data removed]",
      "text/plain": [
       "<Figure size 576x432 with 1 Axes>"
      ]
     },
     "metadata": {
      "needs_background": "light"
     },
     "output_type": "display_data"
    }
   ],
   "source": [
    "# Plot the learning curve to visualize the training progress\n",
    "plt.figure(figsize=(8, 6))\n",
    "plt.plot(train_total_loss_curve, label='Total Loss')\n",
    "plt.plot(train_data_loss_curve, label='Data Loss (MSE)')\n",
    "plt.plot(train_physics_loss_curve, label='Physics Loss')\n",
    "plt.xlabel('Epoch')\n",
    "plt.ylabel('Value')\n",
    "plt.title('Training Metrics')\n",
    "plt.legend()\n",
    "plt.show()"
   ]
  },
  {
   "cell_type": "code",
   "execution_count": 13,
   "id": "6a1b85a0",
   "metadata": {},
   "outputs": [
    {
     "name": "stdout",
     "output_type": "stream",
     "text": [
      "Training MSE: 0.25118465054544875, Training MAE: 0.4520567152072703\n"
     ]
    }
   ],
   "source": [
    "print(f\"Training MSE: {train_mse}, Training MAE: {train_mae}\")"
   ]
  },
  {
   "cell_type": "code",
   "execution_count": 14,
   "id": "aab63b22",
   "metadata": {},
   "outputs": [],
   "source": [
    " # Make predictions on the test data\n",
    "X_test_tensor = tf.convert_to_tensor(X_test, dtype=tf.float32)\n",
    "y_pred = model(X_test_tensor).numpy()\n"
   ]
  },
  {
   "cell_type": "code",
   "execution_count": 15,
   "id": "6d68a58e",
   "metadata": {},
   "outputs": [
    {
     "name": "stdout",
     "output_type": "stream",
     "text": [
      "Test MSE: 0.2635306971011779, Test MAE: 0.4630928860961945\n"
     ]
    }
   ],
   "source": [
    "# Calculate testing metrics\n",
    "test_mse = mean_squared_error(y_test, y_pred)\n",
    "test_mae = mean_absolute_error(y_test, y_pred)\n",
    "\n",
    "print(f\"Test MSE: {test_mse}, Test MAE: {test_mae}\")"
   ]
  },
  {
   "cell_type": "code",
   "execution_count": 16,
   "id": "36f7a3c2",
   "metadata": {},
   "outputs": [
    {
     "data": {
      "image/png": "[encoded data removed]",
      "text/plain": [
       "<Figure size 576x432 with 1 Axes>"
      ]
     },
     "metadata": {
      "needs_background": "light"
     },
     "output_type": "display_data"
    }
   ],
   "source": [
    "# Plot the results: Actual vs. Predicted Current Speed\n",
    "plt.figure(figsize=(8, 6))\n",
    "plt.plot(X_test[:, 0], y_pred[:, 0], label='Predicted Current Speed', color='blue')\n",
    "plt.plot(X_test[:, 0], y_test, label='Actual Current Speed', color='green')\n",
    "plt.xlabel('Wave Speed')\n",
    "plt.ylabel('Current Speed')\n",
    "plt.title('Predicted Current Speed vs. Actual Current Speed')\n",
    "plt.legend()\n",
    "plt.show()"
   ]
  },
  {
   "cell_type": "code",
   "execution_count": null,
   "id": "966fe26d",
   "metadata": {},
   "outputs": [],
   "source": []
  },
  {
   "cell_type": "code",
   "execution_count": null,
   "id": "0ce9b504",
   "metadata": {},
   "outputs": [],
   "source": []
  },
  {
   "cell_type": "code",
   "execution_count": null,
   "id": "03395eca",
   "metadata": {},
   "outputs": [],
   "source": []
  },
  {
   "cell_type": "code",
   "execution_count": null,
   "id": "4994a152",
   "metadata": {},
   "outputs": [],
   "source": []
  },
  {
   "cell_type": "code",
   "execution_count": null,
   "id": "28b87f3e",
   "metadata": {},
   "outputs": [],
   "source": []
  },
  {
   "cell_type": "code",
   "execution_count": null,
   "id": "c4abba9f",
   "metadata": {},
   "outputs": [],
   "source": []
  },
  {
   "cell_type": "code",
   "execution_count": null,
   "id": "f13b47ac",
   "metadata": {},
   "outputs": [],
   "source": []
  },
  {
   "cell_type": "code",
   "execution_count": null,
   "id": "6be80a8e",
   "metadata": {},
   "outputs": [],
   "source": []
  }
 ],
 "metadata": {
  "kernelspec": {
   "display_name": "Python 3 (ipykernel)",
   "language": "python",
   "name": "python3"
  },
  "language_info": {
   "codemirror_mode": {
    "name": "ipython",
    "version": 3
   },
   "file_extension": ".py",
   "mimetype": "text/x-python",
   "name": "python",
   "nbconvert_exporter": "python",
   "pygments_lexer": "ipython3",
   "version": "3.9.12"
  }
 },
 "nbformat": 4,
 "nbformat_minor": 5
}
