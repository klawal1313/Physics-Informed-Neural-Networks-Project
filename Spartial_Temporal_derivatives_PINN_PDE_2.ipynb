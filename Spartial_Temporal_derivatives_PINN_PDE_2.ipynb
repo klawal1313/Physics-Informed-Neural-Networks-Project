{
 "cells": [
  {
   "cell_type": "code",
   "execution_count": 1,
   "id": "83c43f0c",
   "metadata": {},
   "outputs": [],
   "source": [
    "import torch\n",
    "import numpy as np\n",
    "import matplotlib.pyplot as plt\n",
    "import pandas as pd\n",
    "from sklearn.model_selection import train_test_split\n",
    "from sklearn.metrics import mean_squared_error, mean_absolute_error\n"
   ]
  },
  {
   "cell_type": "code",
   "execution_count": 2,
   "id": "f67a2bb8",
   "metadata": {},
   "outputs": [
    {
     "name": "stdout",
     "output_type": "stream",
     "text": [
      "GPU is available.\n"
     ]
    }
   ],
   "source": [
    "# Check for GPU Availability\n",
    "if torch.cuda.is_available():\n",
    "    device = torch.device(\"cuda\")\n",
    "    print(\"GPU is available.\")\n",
    "else:\n",
    "    device = torch.device(\"cpu\")\n",
    "    print(\"GPU is not available; using CPU.\")"
   ]
  },
  {
   "cell_type": "code",
   "execution_count": null,
   "id": "8d0abf02",
   "metadata": {},
   "outputs": [],
   "source": []
  },
  {
   "cell_type": "code",
   "execution_count": 50,
   "id": "3a6ba962",
   "metadata": {},
   "outputs": [],
   "source": [
    "data = pd.read_csv('Wave_Current_ Speeds_TimeSeries(3.5m).csv', index_col= ['DateTime'], parse_dates=['DateTime'])\n"
   ]
  },
  {
   "cell_type": "code",
   "execution_count": 51,
   "id": "21848fa0",
   "metadata": {},
   "outputs": [],
   "source": [
    "X = data[['Wave Speed']].values # Input: Wave Speed\n",
    "y = data['Current speed'].values # Output: Current Speed\n"
   ]
  },
  {
   "cell_type": "code",
   "execution_count": 52,
   "id": "f914f432",
   "metadata": {},
   "outputs": [],
   "source": [
    "X_train, X_test, y_train, y_test = train_test_split(X, y, test_size=0.3, random_state=42)\n"
   ]
  },
  {
   "cell_type": "code",
   "execution_count": 53,
   "id": "6b1ad268",
   "metadata": {},
   "outputs": [],
   "source": [
    "# Convert the NumPy arrays to PyTorch tensors and move to GPU\n",
    "X_train = torch.from_numpy(X_train).float().to(device)\n",
    "X_test = torch.from_numpy(X_test).float().to(device)\n",
    "y_train = torch.from_numpy(y_train).float().to(device)\n",
    "y_test = torch.from_numpy(y_test).float().to(device)"
   ]
  },
  {
   "cell_type": "code",
   "execution_count": 54,
   "id": "66f04684",
   "metadata": {},
   "outputs": [],
   "source": [
    "X_train = X_train.requires_grad_()\n"
   ]
  },
  {
   "cell_type": "code",
   "execution_count": 55,
   "id": "715ea2dd",
   "metadata": {},
   "outputs": [],
   "source": [
    "g = 9.81\n",
    "f = 1.0e-4\n",
    "h_x = 1.5\n",
    "h_y = 1.5\n",
    "dt = 0.01"
   ]
  },
  {
   "cell_type": "code",
   "execution_count": 56,
   "id": "32556f77",
   "metadata": {},
   "outputs": [],
   "source": [
    "# Define initial conditions for u and v at t = 0\n",
    "def initial_conditions(x, y):\n",
    "    u_initial = torch.sin(2 * np.pi * x) * torch.cos(np.pi * y)\n",
    "    v_initial = -torch.cos(2 * np.pi * x) * torch.sin(np.pi * y)\n",
    "    return u_initial, v_initial\n",
    "\n",
    "# Define boundary conditions \n",
    "def boundary_conditions(x, y, t):\n",
    "    u_bc = torch.zeros_like(x)  # Example: u = 0 at the boundaries\n",
    "    v_bc = torch.zeros_like(x)  # Example: v = 0 at the boundaries\n",
    "    return u_bc, v_bc\n"
   ]
  },
  {
   "cell_type": "code",
   "execution_count": 57,
   "id": "567b40b2",
   "metadata": {},
   "outputs": [],
   "source": [
    "# Define spatial derivatives\n",
    "def spatial_derivatives(u, x, y):\n",
    "    u_x = torch.autograd.grad(u, x, grad_outputs=torch.ones_like(u), create_graph=True, retain_graph=True)[0]\n",
    "    u_y = torch.autograd.grad(u, y, grad_outputs=torch.ones_like(u), create_graph=True, retain_graph=True)[0]\n",
    "    return u_x, u_y"
   ]
  },
  {
   "cell_type": "code",
   "execution_count": 58,
   "id": "75340543",
   "metadata": {},
   "outputs": [],
   "source": [
    "# Implement the Runge-Kutta time integration\n",
    "def runge_kutta(u, v, f, g, h_x, h_y, x, y, t, dt):\n",
    "    # Compute k1, k2, k3, and k4 for both u and v\n",
    "    k1_u, k1_v = pinn_physics(u, v, f, g, h_x, h_y, x, y, t)\n",
    "    k2_u, k2_v = pinn_physics(u + 0.5 * dt * k1_u, v + 0.5 * dt * k1_v, f, g, h_x, h_y, x, y, t + 0.5 * dt)\n",
    "    k3_u, k3_v = pinn_physics(u + 0.5 * dt * k2_u, v + 0.5 * dt * k2_v, f, g, h_x, h_y, x, y, t + 0.5 * dt)\n",
    "    k4_u, k4_v = pinn_physics(u + dt * k3_u, v + dt * k3_v, f, g, h_x, h_y, x, y, t + dt)\n",
    "    \n",
    "    # Update u and v using the Runge-Kutta formula\n",
    "    u_new = u + (dt / 6) * (k1_u + 2 * k2_u + 2 * k3_u + k4_u)\n",
    "    v_new = v + (dt / 6) * (k1_v + 2 * k2_v + 2 * k3_v + k4_v)\n",
    "    \n",
    "    return u_new, v_new\n"
   ]
  },
  {
   "cell_type": "code",
   "execution_count": 59,
   "id": "a014274d",
   "metadata": {},
   "outputs": [],
   "source": [
    "# Define your physics-based loss\n",
    "def pinn_physics(u, v, f, g, h_x, h_y, x, y, t):\n",
    "    # Compute spatial derivatives\n",
    "    u_x, u_y = spatial_derivatives(u, x, y)\n",
    "    v_x, v_y = spatial_derivatives(v, x, y)\n",
    "    \n",
    "    # Define temporal derivatives\n",
    "    dt = 0.01  # Define your desired time step\n",
    "    u_t, v_t = runge_kutta(u, v, f, g, h_x, h_y, x, y, t, dt)\n",
    "    \n",
    "    # Define the physics equations\n",
    "    physics_equations = [\n",
    "        u_t + u * u_x + v * u_y + f * u - g * h_x,\n",
    "        v_t + u * v_x + v * v_y - f * v - g * h_y\n",
    "    ]\n",
    "    \n",
    "    return physics_equations\n"
   ]
  },
  {
   "cell_type": "code",
   "execution_count": 60,
   "id": "65b11d81",
   "metadata": {},
   "outputs": [],
   "source": [
    "# Define the physics loss function\n",
    "def physics_loss(u, v, f, g, h_x, h_y, x, y, t):\n",
    "    predictions = torch.cat([u, v], dim=0)\n",
    "    physics_equations = pinn_physics(u, v, f, g, h_x, h_y, x, y, t)\n",
    "    data_loss = torch.mean(torch.abs(predictions - y))\n",
    "    physics_loss_value = torch.mean(torch.abs(physics_equations))\n",
    "    total_loss = data_loss + physics_loss_value\n",
    "    return physics_loss_value, data_loss, total_loss\n"
   ]
  },
  {
   "cell_type": "code",
   "execution_count": 61,
   "id": "250cbf1b",
   "metadata": {},
   "outputs": [],
   "source": [
    "class CurrentSpeedPINN(torch.nn.Module):\n",
    "    def __init__(self):\n",
    "        super(CurrentSpeedPINN, self).__init__()\n",
    "        self.dense1 = torch.nn.Linear(1, 32)  # First hidden layer with 32 neurons\n",
    "        self.dense2 = torch.nn.Linear(32, 32)  # Second hidden layer with 32 neurons\n",
    "        self.output_layer = torch.nn.Linear(32, 2)  # Output layer with two neurons for predicting u and v\n",
    "\n",
    "    def forward(self, inputs):\n",
    "        x = self.dense1(inputs)  # Pass input through the first hidden layer\n",
    "        x = self.dense2(x)  # Pass through the second hidden layer\n",
    "        output = self.output_layer(x)  # Output prediction\n",
    "        return output"
   ]
  },
  {
   "cell_type": "code",
   "execution_count": 62,
   "id": "734d14e4",
   "metadata": {},
   "outputs": [],
   "source": [
    "# Define training hyperparameters\n",
    "learning_rate = 0.009  # Learning rate for optimization\n",
    "epochs = 100  # Number of training epochs\n",
    "\n",
    "model = CurrentSpeedPINN().to(device)\n",
    "optimizer = torch.optim.Adam(model.parameters(), lr=learning_rate)\n"
   ]
  },
  {
   "cell_type": "code",
   "execution_count": 64,
   "id": "2f21b485",
   "metadata": {},
   "outputs": [
    {
     "ename": "RecursionError",
     "evalue": "maximum recursion depth exceeded while calling a Python object",
     "output_type": "error",
     "traceback": [
      "\u001b[1;31m---------------------------------------------------------------------------\u001b[0m",
      "\u001b[1;31mRecursionError\u001b[0m                            Traceback (most recent call last)",
      "Cell \u001b[1;32mIn[64], line 15\u001b[0m\n\u001b[0;32m     12\u001b[0m u_pred \u001b[38;5;241m=\u001b[39m predictions[:, \u001b[38;5;241m0\u001b[39m]  \u001b[38;5;66;03m# Extract u predictions\u001b[39;00m\n\u001b[0;32m     13\u001b[0m v_pred \u001b[38;5;241m=\u001b[39m predictions[:, \u001b[38;5;241m0\u001b[39m]  \u001b[38;5;66;03m# Extract v predictions\u001b[39;00m\n\u001b[1;32m---> 15\u001b[0m physics_loss_value, data_loss, total_loss \u001b[38;5;241m=\u001b[39m \u001b[43mphysics_loss\u001b[49m\u001b[43m(\u001b[49m\u001b[43mu_pred\u001b[49m\u001b[43m,\u001b[49m\u001b[43m \u001b[49m\u001b[43mv_pred\u001b[49m\u001b[43m,\u001b[49m\u001b[43m \u001b[49m\u001b[43mf\u001b[49m\u001b[43m,\u001b[49m\u001b[43m \u001b[49m\u001b[43mg\u001b[49m\u001b[43m,\u001b[49m\u001b[43m \u001b[49m\u001b[43mh_x\u001b[49m\u001b[43m,\u001b[49m\u001b[43m \u001b[49m\u001b[43mh_y\u001b[49m\u001b[43m,\u001b[49m\u001b[43m \u001b[49m\u001b[43mX_train\u001b[49m\u001b[43m,\u001b[49m\u001b[43m \u001b[49m\u001b[43mX_train\u001b[49m\u001b[43m,\u001b[49m\u001b[43m \u001b[49m\u001b[43mt\u001b[49m\u001b[43m)\u001b[49m\n\u001b[0;32m     17\u001b[0m total_loss\u001b[38;5;241m.\u001b[39mbackward()\n\u001b[0;32m     18\u001b[0m optimizer\u001b[38;5;241m.\u001b[39mstep()\n",
      "Cell \u001b[1;32mIn[60], line 4\u001b[0m, in \u001b[0;36mphysics_loss\u001b[1;34m(u, v, f, g, h_x, h_y, x, y, t)\u001b[0m\n\u001b[0;32m      2\u001b[0m \u001b[38;5;28;01mdef\u001b[39;00m \u001b[38;5;21mphysics_loss\u001b[39m(u, v, f, g, h_x, h_y, x, y, t):\n\u001b[0;32m      3\u001b[0m     predictions \u001b[38;5;241m=\u001b[39m torch\u001b[38;5;241m.\u001b[39mcat([u, v], dim\u001b[38;5;241m=\u001b[39m\u001b[38;5;241m0\u001b[39m)\n\u001b[1;32m----> 4\u001b[0m     physics_equations \u001b[38;5;241m=\u001b[39m \u001b[43mpinn_physics\u001b[49m\u001b[43m(\u001b[49m\u001b[43mu\u001b[49m\u001b[43m,\u001b[49m\u001b[43m \u001b[49m\u001b[43mv\u001b[49m\u001b[43m,\u001b[49m\u001b[43m \u001b[49m\u001b[43mf\u001b[49m\u001b[43m,\u001b[49m\u001b[43m \u001b[49m\u001b[43mg\u001b[49m\u001b[43m,\u001b[49m\u001b[43m \u001b[49m\u001b[43mh_x\u001b[49m\u001b[43m,\u001b[49m\u001b[43m \u001b[49m\u001b[43mh_y\u001b[49m\u001b[43m,\u001b[49m\u001b[43m \u001b[49m\u001b[43mx\u001b[49m\u001b[43m,\u001b[49m\u001b[43m \u001b[49m\u001b[43my\u001b[49m\u001b[43m,\u001b[49m\u001b[43m \u001b[49m\u001b[43mt\u001b[49m\u001b[43m)\u001b[49m\n\u001b[0;32m      5\u001b[0m     data_loss \u001b[38;5;241m=\u001b[39m torch\u001b[38;5;241m.\u001b[39mmean(torch\u001b[38;5;241m.\u001b[39mabs(predictions \u001b[38;5;241m-\u001b[39m y))\n\u001b[0;32m      6\u001b[0m     physics_loss_value \u001b[38;5;241m=\u001b[39m torch\u001b[38;5;241m.\u001b[39mmean(torch\u001b[38;5;241m.\u001b[39mabs(physics_equations))\n",
      "Cell \u001b[1;32mIn[59], line 9\u001b[0m, in \u001b[0;36mpinn_physics\u001b[1;34m(u, v, f, g, h_x, h_y, x, y, t)\u001b[0m\n\u001b[0;32m      7\u001b[0m \u001b[38;5;66;03m# Define temporal derivatives\u001b[39;00m\n\u001b[0;32m      8\u001b[0m dt \u001b[38;5;241m=\u001b[39m \u001b[38;5;241m0.01\u001b[39m  \u001b[38;5;66;03m# Define your desired time step\u001b[39;00m\n\u001b[1;32m----> 9\u001b[0m u_t, v_t \u001b[38;5;241m=\u001b[39m \u001b[43mrunge_kutta\u001b[49m\u001b[43m(\u001b[49m\u001b[43mu\u001b[49m\u001b[43m,\u001b[49m\u001b[43m \u001b[49m\u001b[43mv\u001b[49m\u001b[43m,\u001b[49m\u001b[43m \u001b[49m\u001b[43mf\u001b[49m\u001b[43m,\u001b[49m\u001b[43m \u001b[49m\u001b[43mg\u001b[49m\u001b[43m,\u001b[49m\u001b[43m \u001b[49m\u001b[43mh_x\u001b[49m\u001b[43m,\u001b[49m\u001b[43m \u001b[49m\u001b[43mh_y\u001b[49m\u001b[43m,\u001b[49m\u001b[43m \u001b[49m\u001b[43mx\u001b[49m\u001b[43m,\u001b[49m\u001b[43m \u001b[49m\u001b[43my\u001b[49m\u001b[43m,\u001b[49m\u001b[43m \u001b[49m\u001b[43mt\u001b[49m\u001b[43m,\u001b[49m\u001b[43m \u001b[49m\u001b[43mdt\u001b[49m\u001b[43m)\u001b[49m\n\u001b[0;32m     11\u001b[0m \u001b[38;5;66;03m# Define the physics equations\u001b[39;00m\n\u001b[0;32m     12\u001b[0m physics_equations \u001b[38;5;241m=\u001b[39m [\n\u001b[0;32m     13\u001b[0m     u_t \u001b[38;5;241m+\u001b[39m u \u001b[38;5;241m*\u001b[39m u_x \u001b[38;5;241m+\u001b[39m v \u001b[38;5;241m*\u001b[39m u_y \u001b[38;5;241m+\u001b[39m f \u001b[38;5;241m*\u001b[39m u \u001b[38;5;241m-\u001b[39m g \u001b[38;5;241m*\u001b[39m h_x,\n\u001b[0;32m     14\u001b[0m     v_t \u001b[38;5;241m+\u001b[39m u \u001b[38;5;241m*\u001b[39m v_x \u001b[38;5;241m+\u001b[39m v \u001b[38;5;241m*\u001b[39m v_y \u001b[38;5;241m-\u001b[39m f \u001b[38;5;241m*\u001b[39m v \u001b[38;5;241m-\u001b[39m g \u001b[38;5;241m*\u001b[39m h_y\n\u001b[0;32m     15\u001b[0m ]\n",
      "Cell \u001b[1;32mIn[58], line 4\u001b[0m, in \u001b[0;36mrunge_kutta\u001b[1;34m(u, v, f, g, h_x, h_y, x, y, t, dt)\u001b[0m\n\u001b[0;32m      2\u001b[0m \u001b[38;5;28;01mdef\u001b[39;00m \u001b[38;5;21mrunge_kutta\u001b[39m(u, v, f, g, h_x, h_y, x, y, t, dt):\n\u001b[0;32m      3\u001b[0m     \u001b[38;5;66;03m# Compute k1, k2, k3, and k4 for both u and v\u001b[39;00m\n\u001b[1;32m----> 4\u001b[0m     k1_u, k1_v \u001b[38;5;241m=\u001b[39m \u001b[43mpinn_physics\u001b[49m\u001b[43m(\u001b[49m\u001b[43mu\u001b[49m\u001b[43m,\u001b[49m\u001b[43m \u001b[49m\u001b[43mv\u001b[49m\u001b[43m,\u001b[49m\u001b[43m \u001b[49m\u001b[43mf\u001b[49m\u001b[43m,\u001b[49m\u001b[43m \u001b[49m\u001b[43mg\u001b[49m\u001b[43m,\u001b[49m\u001b[43m \u001b[49m\u001b[43mh_x\u001b[49m\u001b[43m,\u001b[49m\u001b[43m \u001b[49m\u001b[43mh_y\u001b[49m\u001b[43m,\u001b[49m\u001b[43m \u001b[49m\u001b[43mx\u001b[49m\u001b[43m,\u001b[49m\u001b[43m \u001b[49m\u001b[43my\u001b[49m\u001b[43m,\u001b[49m\u001b[43m \u001b[49m\u001b[43mt\u001b[49m\u001b[43m)\u001b[49m\n\u001b[0;32m      5\u001b[0m     k2_u, k2_v \u001b[38;5;241m=\u001b[39m pinn_physics(u \u001b[38;5;241m+\u001b[39m \u001b[38;5;241m0.5\u001b[39m \u001b[38;5;241m*\u001b[39m dt \u001b[38;5;241m*\u001b[39m k1_u, v \u001b[38;5;241m+\u001b[39m \u001b[38;5;241m0.5\u001b[39m \u001b[38;5;241m*\u001b[39m dt \u001b[38;5;241m*\u001b[39m k1_v, f, g, h_x, h_y, x, y, t \u001b[38;5;241m+\u001b[39m \u001b[38;5;241m0.5\u001b[39m \u001b[38;5;241m*\u001b[39m dt)\n\u001b[0;32m      6\u001b[0m     k3_u, k3_v \u001b[38;5;241m=\u001b[39m pinn_physics(u \u001b[38;5;241m+\u001b[39m \u001b[38;5;241m0.5\u001b[39m \u001b[38;5;241m*\u001b[39m dt \u001b[38;5;241m*\u001b[39m k2_u, v \u001b[38;5;241m+\u001b[39m \u001b[38;5;241m0.5\u001b[39m \u001b[38;5;241m*\u001b[39m dt \u001b[38;5;241m*\u001b[39m k2_v, f, g, h_x, h_y, x, y, t \u001b[38;5;241m+\u001b[39m \u001b[38;5;241m0.5\u001b[39m \u001b[38;5;241m*\u001b[39m dt)\n",
      "Cell \u001b[1;32mIn[59], line 9\u001b[0m, in \u001b[0;36mpinn_physics\u001b[1;34m(u, v, f, g, h_x, h_y, x, y, t)\u001b[0m\n\u001b[0;32m      7\u001b[0m \u001b[38;5;66;03m# Define temporal derivatives\u001b[39;00m\n\u001b[0;32m      8\u001b[0m dt \u001b[38;5;241m=\u001b[39m \u001b[38;5;241m0.01\u001b[39m  \u001b[38;5;66;03m# Define your desired time step\u001b[39;00m\n\u001b[1;32m----> 9\u001b[0m u_t, v_t \u001b[38;5;241m=\u001b[39m \u001b[43mrunge_kutta\u001b[49m\u001b[43m(\u001b[49m\u001b[43mu\u001b[49m\u001b[43m,\u001b[49m\u001b[43m \u001b[49m\u001b[43mv\u001b[49m\u001b[43m,\u001b[49m\u001b[43m \u001b[49m\u001b[43mf\u001b[49m\u001b[43m,\u001b[49m\u001b[43m \u001b[49m\u001b[43mg\u001b[49m\u001b[43m,\u001b[49m\u001b[43m \u001b[49m\u001b[43mh_x\u001b[49m\u001b[43m,\u001b[49m\u001b[43m \u001b[49m\u001b[43mh_y\u001b[49m\u001b[43m,\u001b[49m\u001b[43m \u001b[49m\u001b[43mx\u001b[49m\u001b[43m,\u001b[49m\u001b[43m \u001b[49m\u001b[43my\u001b[49m\u001b[43m,\u001b[49m\u001b[43m \u001b[49m\u001b[43mt\u001b[49m\u001b[43m,\u001b[49m\u001b[43m \u001b[49m\u001b[43mdt\u001b[49m\u001b[43m)\u001b[49m\n\u001b[0;32m     11\u001b[0m \u001b[38;5;66;03m# Define the physics equations\u001b[39;00m\n\u001b[0;32m     12\u001b[0m physics_equations \u001b[38;5;241m=\u001b[39m [\n\u001b[0;32m     13\u001b[0m     u_t \u001b[38;5;241m+\u001b[39m u \u001b[38;5;241m*\u001b[39m u_x \u001b[38;5;241m+\u001b[39m v \u001b[38;5;241m*\u001b[39m u_y \u001b[38;5;241m+\u001b[39m f \u001b[38;5;241m*\u001b[39m u \u001b[38;5;241m-\u001b[39m g \u001b[38;5;241m*\u001b[39m h_x,\n\u001b[0;32m     14\u001b[0m     v_t \u001b[38;5;241m+\u001b[39m u \u001b[38;5;241m*\u001b[39m v_x \u001b[38;5;241m+\u001b[39m v \u001b[38;5;241m*\u001b[39m v_y \u001b[38;5;241m-\u001b[39m f \u001b[38;5;241m*\u001b[39m v \u001b[38;5;241m-\u001b[39m g \u001b[38;5;241m*\u001b[39m h_y\n\u001b[0;32m     15\u001b[0m ]\n",
      "Cell \u001b[1;32mIn[58], line 4\u001b[0m, in \u001b[0;36mrunge_kutta\u001b[1;34m(u, v, f, g, h_x, h_y, x, y, t, dt)\u001b[0m\n\u001b[0;32m      2\u001b[0m \u001b[38;5;28;01mdef\u001b[39;00m \u001b[38;5;21mrunge_kutta\u001b[39m(u, v, f, g, h_x, h_y, x, y, t, dt):\n\u001b[0;32m      3\u001b[0m     \u001b[38;5;66;03m# Compute k1, k2, k3, and k4 for both u and v\u001b[39;00m\n\u001b[1;32m----> 4\u001b[0m     k1_u, k1_v \u001b[38;5;241m=\u001b[39m \u001b[43mpinn_physics\u001b[49m\u001b[43m(\u001b[49m\u001b[43mu\u001b[49m\u001b[43m,\u001b[49m\u001b[43m \u001b[49m\u001b[43mv\u001b[49m\u001b[43m,\u001b[49m\u001b[43m \u001b[49m\u001b[43mf\u001b[49m\u001b[43m,\u001b[49m\u001b[43m \u001b[49m\u001b[43mg\u001b[49m\u001b[43m,\u001b[49m\u001b[43m \u001b[49m\u001b[43mh_x\u001b[49m\u001b[43m,\u001b[49m\u001b[43m \u001b[49m\u001b[43mh_y\u001b[49m\u001b[43m,\u001b[49m\u001b[43m \u001b[49m\u001b[43mx\u001b[49m\u001b[43m,\u001b[49m\u001b[43m \u001b[49m\u001b[43my\u001b[49m\u001b[43m,\u001b[49m\u001b[43m \u001b[49m\u001b[43mt\u001b[49m\u001b[43m)\u001b[49m\n\u001b[0;32m      5\u001b[0m     k2_u, k2_v \u001b[38;5;241m=\u001b[39m pinn_physics(u \u001b[38;5;241m+\u001b[39m \u001b[38;5;241m0.5\u001b[39m \u001b[38;5;241m*\u001b[39m dt \u001b[38;5;241m*\u001b[39m k1_u, v \u001b[38;5;241m+\u001b[39m \u001b[38;5;241m0.5\u001b[39m \u001b[38;5;241m*\u001b[39m dt \u001b[38;5;241m*\u001b[39m k1_v, f, g, h_x, h_y, x, y, t \u001b[38;5;241m+\u001b[39m \u001b[38;5;241m0.5\u001b[39m \u001b[38;5;241m*\u001b[39m dt)\n\u001b[0;32m      6\u001b[0m     k3_u, k3_v \u001b[38;5;241m=\u001b[39m pinn_physics(u \u001b[38;5;241m+\u001b[39m \u001b[38;5;241m0.5\u001b[39m \u001b[38;5;241m*\u001b[39m dt \u001b[38;5;241m*\u001b[39m k2_u, v \u001b[38;5;241m+\u001b[39m \u001b[38;5;241m0.5\u001b[39m \u001b[38;5;241m*\u001b[39m dt \u001b[38;5;241m*\u001b[39m k2_v, f, g, h_x, h_y, x, y, t \u001b[38;5;241m+\u001b[39m \u001b[38;5;241m0.5\u001b[39m \u001b[38;5;241m*\u001b[39m dt)\n",
      "    \u001b[1;31m[... skipping similar frames: pinn_physics at line 9 (1480 times), runge_kutta at line 4 (1480 times)]\u001b[0m\n",
      "Cell \u001b[1;32mIn[59], line 9\u001b[0m, in \u001b[0;36mpinn_physics\u001b[1;34m(u, v, f, g, h_x, h_y, x, y, t)\u001b[0m\n\u001b[0;32m      7\u001b[0m \u001b[38;5;66;03m# Define temporal derivatives\u001b[39;00m\n\u001b[0;32m      8\u001b[0m dt \u001b[38;5;241m=\u001b[39m \u001b[38;5;241m0.01\u001b[39m  \u001b[38;5;66;03m# Define your desired time step\u001b[39;00m\n\u001b[1;32m----> 9\u001b[0m u_t, v_t \u001b[38;5;241m=\u001b[39m \u001b[43mrunge_kutta\u001b[49m\u001b[43m(\u001b[49m\u001b[43mu\u001b[49m\u001b[43m,\u001b[49m\u001b[43m \u001b[49m\u001b[43mv\u001b[49m\u001b[43m,\u001b[49m\u001b[43m \u001b[49m\u001b[43mf\u001b[49m\u001b[43m,\u001b[49m\u001b[43m \u001b[49m\u001b[43mg\u001b[49m\u001b[43m,\u001b[49m\u001b[43m \u001b[49m\u001b[43mh_x\u001b[49m\u001b[43m,\u001b[49m\u001b[43m \u001b[49m\u001b[43mh_y\u001b[49m\u001b[43m,\u001b[49m\u001b[43m \u001b[49m\u001b[43mx\u001b[49m\u001b[43m,\u001b[49m\u001b[43m \u001b[49m\u001b[43my\u001b[49m\u001b[43m,\u001b[49m\u001b[43m \u001b[49m\u001b[43mt\u001b[49m\u001b[43m,\u001b[49m\u001b[43m \u001b[49m\u001b[43mdt\u001b[49m\u001b[43m)\u001b[49m\n\u001b[0;32m     11\u001b[0m \u001b[38;5;66;03m# Define the physics equations\u001b[39;00m\n\u001b[0;32m     12\u001b[0m physics_equations \u001b[38;5;241m=\u001b[39m [\n\u001b[0;32m     13\u001b[0m     u_t \u001b[38;5;241m+\u001b[39m u \u001b[38;5;241m*\u001b[39m u_x \u001b[38;5;241m+\u001b[39m v \u001b[38;5;241m*\u001b[39m u_y \u001b[38;5;241m+\u001b[39m f \u001b[38;5;241m*\u001b[39m u \u001b[38;5;241m-\u001b[39m g \u001b[38;5;241m*\u001b[39m h_x,\n\u001b[0;32m     14\u001b[0m     v_t \u001b[38;5;241m+\u001b[39m u \u001b[38;5;241m*\u001b[39m v_x \u001b[38;5;241m+\u001b[39m v \u001b[38;5;241m*\u001b[39m v_y \u001b[38;5;241m-\u001b[39m f \u001b[38;5;241m*\u001b[39m v \u001b[38;5;241m-\u001b[39m g \u001b[38;5;241m*\u001b[39m h_y\n\u001b[0;32m     15\u001b[0m ]\n",
      "Cell \u001b[1;32mIn[58], line 4\u001b[0m, in \u001b[0;36mrunge_kutta\u001b[1;34m(u, v, f, g, h_x, h_y, x, y, t, dt)\u001b[0m\n\u001b[0;32m      2\u001b[0m \u001b[38;5;28;01mdef\u001b[39;00m \u001b[38;5;21mrunge_kutta\u001b[39m(u, v, f, g, h_x, h_y, x, y, t, dt):\n\u001b[0;32m      3\u001b[0m     \u001b[38;5;66;03m# Compute k1, k2, k3, and k4 for both u and v\u001b[39;00m\n\u001b[1;32m----> 4\u001b[0m     k1_u, k1_v \u001b[38;5;241m=\u001b[39m \u001b[43mpinn_physics\u001b[49m\u001b[43m(\u001b[49m\u001b[43mu\u001b[49m\u001b[43m,\u001b[49m\u001b[43m \u001b[49m\u001b[43mv\u001b[49m\u001b[43m,\u001b[49m\u001b[43m \u001b[49m\u001b[43mf\u001b[49m\u001b[43m,\u001b[49m\u001b[43m \u001b[49m\u001b[43mg\u001b[49m\u001b[43m,\u001b[49m\u001b[43m \u001b[49m\u001b[43mh_x\u001b[49m\u001b[43m,\u001b[49m\u001b[43m \u001b[49m\u001b[43mh_y\u001b[49m\u001b[43m,\u001b[49m\u001b[43m \u001b[49m\u001b[43mx\u001b[49m\u001b[43m,\u001b[49m\u001b[43m \u001b[49m\u001b[43my\u001b[49m\u001b[43m,\u001b[49m\u001b[43m \u001b[49m\u001b[43mt\u001b[49m\u001b[43m)\u001b[49m\n\u001b[0;32m      5\u001b[0m     k2_u, k2_v \u001b[38;5;241m=\u001b[39m pinn_physics(u \u001b[38;5;241m+\u001b[39m \u001b[38;5;241m0.5\u001b[39m \u001b[38;5;241m*\u001b[39m dt \u001b[38;5;241m*\u001b[39m k1_u, v \u001b[38;5;241m+\u001b[39m \u001b[38;5;241m0.5\u001b[39m \u001b[38;5;241m*\u001b[39m dt \u001b[38;5;241m*\u001b[39m k1_v, f, g, h_x, h_y, x, y, t \u001b[38;5;241m+\u001b[39m \u001b[38;5;241m0.5\u001b[39m \u001b[38;5;241m*\u001b[39m dt)\n\u001b[0;32m      6\u001b[0m     k3_u, k3_v \u001b[38;5;241m=\u001b[39m pinn_physics(u \u001b[38;5;241m+\u001b[39m \u001b[38;5;241m0.5\u001b[39m \u001b[38;5;241m*\u001b[39m dt \u001b[38;5;241m*\u001b[39m k2_u, v \u001b[38;5;241m+\u001b[39m \u001b[38;5;241m0.5\u001b[39m \u001b[38;5;241m*\u001b[39m dt \u001b[38;5;241m*\u001b[39m k2_v, f, g, h_x, h_y, x, y, t \u001b[38;5;241m+\u001b[39m \u001b[38;5;241m0.5\u001b[39m \u001b[38;5;241m*\u001b[39m dt)\n",
      "Cell \u001b[1;32mIn[59], line 4\u001b[0m, in \u001b[0;36mpinn_physics\u001b[1;34m(u, v, f, g, h_x, h_y, x, y, t)\u001b[0m\n\u001b[0;32m      2\u001b[0m \u001b[38;5;28;01mdef\u001b[39;00m \u001b[38;5;21mpinn_physics\u001b[39m(u, v, f, g, h_x, h_y, x, y, t):\n\u001b[0;32m      3\u001b[0m     \u001b[38;5;66;03m# Compute spatial derivatives\u001b[39;00m\n\u001b[1;32m----> 4\u001b[0m     u_x, u_y \u001b[38;5;241m=\u001b[39m \u001b[43mspatial_derivatives\u001b[49m\u001b[43m(\u001b[49m\u001b[43mu\u001b[49m\u001b[43m,\u001b[49m\u001b[43m \u001b[49m\u001b[43mx\u001b[49m\u001b[43m,\u001b[49m\u001b[43m \u001b[49m\u001b[43my\u001b[49m\u001b[43m)\u001b[49m\n\u001b[0;32m      5\u001b[0m     v_x, v_y \u001b[38;5;241m=\u001b[39m spatial_derivatives(v, x, y)\n\u001b[0;32m      7\u001b[0m     \u001b[38;5;66;03m# Define temporal derivatives\u001b[39;00m\n",
      "Cell \u001b[1;32mIn[57], line 3\u001b[0m, in \u001b[0;36mspatial_derivatives\u001b[1;34m(u, x, y)\u001b[0m\n\u001b[0;32m      2\u001b[0m \u001b[38;5;28;01mdef\u001b[39;00m \u001b[38;5;21mspatial_derivatives\u001b[39m(u, x, y):\n\u001b[1;32m----> 3\u001b[0m     u_x \u001b[38;5;241m=\u001b[39m \u001b[43mtorch\u001b[49m\u001b[38;5;241;43m.\u001b[39;49m\u001b[43mautograd\u001b[49m\u001b[38;5;241;43m.\u001b[39;49m\u001b[43mgrad\u001b[49m\u001b[43m(\u001b[49m\u001b[43mu\u001b[49m\u001b[43m,\u001b[49m\u001b[43m \u001b[49m\u001b[43mx\u001b[49m\u001b[43m,\u001b[49m\u001b[43m \u001b[49m\u001b[43mgrad_outputs\u001b[49m\u001b[38;5;241;43m=\u001b[39;49m\u001b[43mtorch\u001b[49m\u001b[38;5;241;43m.\u001b[39;49m\u001b[43mones_like\u001b[49m\u001b[43m(\u001b[49m\u001b[43mu\u001b[49m\u001b[43m)\u001b[49m\u001b[43m,\u001b[49m\u001b[43m \u001b[49m\u001b[43mcreate_graph\u001b[49m\u001b[38;5;241;43m=\u001b[39;49m\u001b[38;5;28;43;01mTrue\u001b[39;49;00m\u001b[43m,\u001b[49m\u001b[43m \u001b[49m\u001b[43mretain_graph\u001b[49m\u001b[38;5;241;43m=\u001b[39;49m\u001b[38;5;28;43;01mTrue\u001b[39;49;00m\u001b[43m)\u001b[49m[\u001b[38;5;241m0\u001b[39m]\n\u001b[0;32m      4\u001b[0m     u_y \u001b[38;5;241m=\u001b[39m torch\u001b[38;5;241m.\u001b[39mautograd\u001b[38;5;241m.\u001b[39mgrad(u, y, grad_outputs\u001b[38;5;241m=\u001b[39mtorch\u001b[38;5;241m.\u001b[39mones_like(u), create_graph\u001b[38;5;241m=\u001b[39m\u001b[38;5;28;01mTrue\u001b[39;00m, retain_graph\u001b[38;5;241m=\u001b[39m\u001b[38;5;28;01mTrue\u001b[39;00m)[\u001b[38;5;241m0\u001b[39m]\n\u001b[0;32m      5\u001b[0m     \u001b[38;5;28;01mreturn\u001b[39;00m u_x, u_y\n",
      "File \u001b[1;32m~\\anaconda3\\envs\\PINNs\\lib\\site-packages\\torch\\autograd\\__init__.py:178\u001b[0m, in \u001b[0;36mgrad\u001b[1;34m(outputs, inputs, grad_outputs, retain_graph, create_graph, only_inputs, allow_unused)\u001b[0m\n\u001b[0;32m    176\u001b[0m inputs \u001b[38;5;241m=\u001b[39m (inputs,) \u001b[38;5;28;01mif\u001b[39;00m \u001b[38;5;28misinstance\u001b[39m(inputs, torch\u001b[38;5;241m.\u001b[39mTensor) \u001b[38;5;28;01melse\u001b[39;00m \u001b[38;5;28mtuple\u001b[39m(inputs)\n\u001b[0;32m    177\u001b[0m overridable_args \u001b[38;5;241m=\u001b[39m outputs \u001b[38;5;241m+\u001b[39m inputs\n\u001b[1;32m--> 178\u001b[0m \u001b[38;5;28;01mif\u001b[39;00m \u001b[43mhas_torch_function\u001b[49m\u001b[43m(\u001b[49m\u001b[43moverridable_args\u001b[49m\u001b[43m)\u001b[49m:\n\u001b[0;32m    179\u001b[0m     \u001b[38;5;28;01mreturn\u001b[39;00m handle_torch_function(\n\u001b[0;32m    180\u001b[0m         grad,\n\u001b[0;32m    181\u001b[0m         overridable_args,\n\u001b[1;32m   (...)\u001b[0m\n\u001b[0;32m    188\u001b[0m         allow_unused\u001b[38;5;241m=\u001b[39mallow_unused,\n\u001b[0;32m    189\u001b[0m     )\n\u001b[0;32m    191\u001b[0m \u001b[38;5;28;01mif\u001b[39;00m \u001b[38;5;129;01mnot\u001b[39;00m only_inputs:\n",
      "File \u001b[1;32m~\\anaconda3\\envs\\PINNs\\lib\\site-packages\\torch\\overrides.py:1086\u001b[0m, in \u001b[0;36mhas_torch_function\u001b[1;34m(relevant_args)\u001b[0m\n\u001b[0;32m   1073\u001b[0m \u001b[38;5;28;01mdef\u001b[39;00m \u001b[38;5;21mhas_torch_function\u001b[39m(relevant_args: Iterable[Any]) \u001b[38;5;241m-\u001b[39m\u001b[38;5;241m>\u001b[39m \u001b[38;5;28mbool\u001b[39m:\n\u001b[0;32m   1074\u001b[0m \u001b[38;5;250m    \u001b[39m\u001b[38;5;124;03m\"\"\"Check for __torch_function__ implementations in the elements of an iterable\u001b[39;00m\n\u001b[0;32m   1075\u001b[0m \n\u001b[0;32m   1076\u001b[0m \u001b[38;5;124;03m    Arguments\u001b[39;00m\n\u001b[1;32m   (...)\u001b[0m\n\u001b[0;32m   1084\u001b[0m \u001b[38;5;124;03m    implementations, False otherwise.\u001b[39;00m\n\u001b[0;32m   1085\u001b[0m \u001b[38;5;124;03m    \"\"\"\u001b[39;00m\n\u001b[1;32m-> 1086\u001b[0m     \u001b[38;5;28;01mreturn\u001b[39;00m _is_torch_function_enabled() \u001b[38;5;129;01mand\u001b[39;00m \u001b[38;5;28;43many\u001b[39;49m\u001b[43m(\u001b[49m\n\u001b[0;32m   1087\u001b[0m \u001b[43m        \u001b[49m\u001b[38;5;28;43mtype\u001b[39;49m\u001b[43m(\u001b[49m\u001b[43ma\u001b[49m\u001b[43m)\u001b[49m\u001b[43m \u001b[49m\u001b[38;5;129;43;01mis\u001b[39;49;00m\u001b[43m \u001b[49m\u001b[38;5;129;43;01mnot\u001b[39;49;00m\u001b[43m \u001b[49m\u001b[43mtorch\u001b[49m\u001b[38;5;241;43m.\u001b[39;49m\u001b[43mTensor\u001b[49m\u001b[43m \u001b[49m\u001b[38;5;129;43;01mand\u001b[39;49;00m\n\u001b[0;32m   1088\u001b[0m \u001b[43m        \u001b[49m\u001b[38;5;28;43mgetattr\u001b[39;49m\u001b[43m(\u001b[49m\u001b[43ma\u001b[49m\u001b[43m,\u001b[49m\u001b[43m \u001b[49m\u001b[38;5;124;43m'\u001b[39;49m\u001b[38;5;124;43m__torch_function__\u001b[39;49m\u001b[38;5;124;43m'\u001b[39;49m\u001b[43m,\u001b[49m\u001b[43m \u001b[49m\u001b[43m_disabled_torch_function_impl\u001b[49m\u001b[43m)\u001b[49m\n\u001b[0;32m   1089\u001b[0m \u001b[43m        \u001b[49m\u001b[38;5;129;43;01mis\u001b[39;49;00m\u001b[43m \u001b[49m\u001b[38;5;129;43;01mnot\u001b[39;49;00m\u001b[43m \u001b[49m\u001b[43m_disabled_torch_function_impl\u001b[49m\n\u001b[0;32m   1090\u001b[0m \u001b[43m        \u001b[49m\u001b[38;5;28;43;01mfor\u001b[39;49;00m\u001b[43m \u001b[49m\u001b[43ma\u001b[49m\u001b[43m \u001b[49m\u001b[38;5;129;43;01min\u001b[39;49;00m\u001b[43m \u001b[49m\u001b[43mrelevant_args\u001b[49m\n\u001b[0;32m   1091\u001b[0m \u001b[43m    \u001b[49m\u001b[43m)\u001b[49m\n",
      "File \u001b[1;32m~\\anaconda3\\envs\\PINNs\\lib\\site-packages\\torch\\overrides.py:1087\u001b[0m, in \u001b[0;36m<genexpr>\u001b[1;34m(.0)\u001b[0m\n\u001b[0;32m   1073\u001b[0m \u001b[38;5;28;01mdef\u001b[39;00m \u001b[38;5;21mhas_torch_function\u001b[39m(relevant_args: Iterable[Any]) \u001b[38;5;241m-\u001b[39m\u001b[38;5;241m>\u001b[39m \u001b[38;5;28mbool\u001b[39m:\n\u001b[0;32m   1074\u001b[0m \u001b[38;5;250m    \u001b[39m\u001b[38;5;124;03m\"\"\"Check for __torch_function__ implementations in the elements of an iterable\u001b[39;00m\n\u001b[0;32m   1075\u001b[0m \n\u001b[0;32m   1076\u001b[0m \u001b[38;5;124;03m    Arguments\u001b[39;00m\n\u001b[1;32m   (...)\u001b[0m\n\u001b[0;32m   1084\u001b[0m \u001b[38;5;124;03m    implementations, False otherwise.\u001b[39;00m\n\u001b[0;32m   1085\u001b[0m \u001b[38;5;124;03m    \"\"\"\u001b[39;00m\n\u001b[0;32m   1086\u001b[0m     \u001b[38;5;28;01mreturn\u001b[39;00m _is_torch_function_enabled() \u001b[38;5;129;01mand\u001b[39;00m \u001b[38;5;28many\u001b[39m(\n\u001b[1;32m-> 1087\u001b[0m         \u001b[38;5;28;43mtype\u001b[39;49m\u001b[43m(\u001b[49m\u001b[43ma\u001b[49m\u001b[43m)\u001b[49m \u001b[38;5;129;01mis\u001b[39;00m \u001b[38;5;129;01mnot\u001b[39;00m torch\u001b[38;5;241m.\u001b[39mTensor \u001b[38;5;129;01mand\u001b[39;00m\n\u001b[0;32m   1088\u001b[0m         \u001b[38;5;28mgetattr\u001b[39m(a, \u001b[38;5;124m'\u001b[39m\u001b[38;5;124m__torch_function__\u001b[39m\u001b[38;5;124m'\u001b[39m, _disabled_torch_function_impl)\n\u001b[0;32m   1089\u001b[0m         \u001b[38;5;129;01mis\u001b[39;00m \u001b[38;5;129;01mnot\u001b[39;00m _disabled_torch_function_impl\n\u001b[0;32m   1090\u001b[0m         \u001b[38;5;28;01mfor\u001b[39;00m a \u001b[38;5;129;01min\u001b[39;00m relevant_args\n\u001b[0;32m   1091\u001b[0m     )\n",
      "\u001b[1;31mRecursionError\u001b[0m: maximum recursion depth exceeded while calling a Python object"
     ]
    }
   ],
   "source": [
    "# Training loop\n",
    "losses = {'physics_loss': [], 'data_loss': [], 'total_loss': []}\n",
    "t = 0.0  # Initial time\n",
    "\n",
    "for epoch in range(epochs):\n",
    "    optimizer.zero_grad()\n",
    "    \n",
    "    t += 0.01  # Increment time by the desired time step\n",
    "    \n",
    "    predictions = model(X_train)\n",
    "    \n",
    "    u_pred = predictions[:, 0]  # Extract u predictions\n",
    "    v_pred = predictions[:, 0]  # Extract v predictions\n",
    "    \n",
    "    physics_loss_value, data_loss, total_loss = physics_loss(u_pred, v_pred, f, g, h_x, h_y, X_train, X_train, t)\n",
    "    \n",
    "    total_loss.backward()\n",
    "    optimizer.step()\n",
    "    \n",
    "    losses['physics_loss'].append(physics_loss_value.item())\n",
    "    losses['data_loss'].append(data_loss.item())\n",
    "    losses['total_loss'].append(total_loss.item())\n",
    "    \n",
    "    if epoch % 10 == 0:\n",
    "        print(f\"Epoch [{epoch}/{epochs}] - Physics Loss: {physics_loss_value.item()}, Data Loss: {data_loss.item()}, Total Loss: {total_loss.item()}\")"
   ]
  },
  {
   "cell_type": "code",
   "execution_count": 49,
   "id": "14c3bf2e",
   "metadata": {},
   "outputs": [
    {
     "ename": "TypeError",
     "evalue": "physics_loss() missing 1 required positional argument: 'dt'",
     "output_type": "error",
     "traceback": [
      "\u001b[1;31m---------------------------------------------------------------------------\u001b[0m",
      "\u001b[1;31mTypeError\u001b[0m                                 Traceback (most recent call last)",
      "Cell \u001b[1;32mIn[49], line 19\u001b[0m\n\u001b[0;32m     16\u001b[0m v_pred \u001b[38;5;241m=\u001b[39m predictions[X_train\u001b[38;5;241m.\u001b[39msize(\u001b[38;5;241m0\u001b[39m):]\n\u001b[0;32m     18\u001b[0m \u001b[38;5;66;03m# Calculate losses\u001b[39;00m\n\u001b[1;32m---> 19\u001b[0m physics_loss_value, data_loss, total_loss \u001b[38;5;241m=\u001b[39m \u001b[43mphysics_loss\u001b[49m\u001b[43m(\u001b[49m\u001b[43mu_pred\u001b[49m\u001b[43m,\u001b[49m\u001b[43m \u001b[49m\u001b[43mv_pred\u001b[49m\u001b[43m,\u001b[49m\u001b[43m \u001b[49m\u001b[43mf\u001b[49m\u001b[43m,\u001b[49m\u001b[43m \u001b[49m\u001b[43mg\u001b[49m\u001b[43m,\u001b[49m\u001b[43m \u001b[49m\u001b[43mh_x\u001b[49m\u001b[43m,\u001b[49m\u001b[43m \u001b[49m\u001b[43mh_y\u001b[49m\u001b[43m,\u001b[49m\u001b[43m \u001b[49m\u001b[43mX_train\u001b[49m\u001b[43m,\u001b[49m\u001b[43m \u001b[49m\u001b[43mX_train\u001b[49m\u001b[43m,\u001b[49m\u001b[43m \u001b[49m\u001b[43mt\u001b[49m\u001b[43m)\u001b[49m\n\u001b[0;32m     21\u001b[0m total_loss\u001b[38;5;241m.\u001b[39mbackward()\n\u001b[0;32m     22\u001b[0m optimizer\u001b[38;5;241m.\u001b[39mstep()\n",
      "\u001b[1;31mTypeError\u001b[0m: physics_loss() missing 1 required positional argument: 'dt'"
     ]
    }
   ],
   "source": [
    "# Training Loop\n",
    "losses = {'physics_loss': [], 'data_loss': [], 'total_loss': []}\n",
    "t = 0.0  # Initial time\n",
    "\n",
    "for epoch in range(epochs):\n",
    "    optimizer.zero_grad()\n",
    "    \n",
    "    # Update time 't' at each epoch\n",
    "    t += 1.0  # You should adjust the time increment according to your problem\n",
    "    \n",
    "    # Forward pass to get model predictions\n",
    "    predictions = model(X_train)\n",
    "    \n",
    "    # Extract u and v predictions\n",
    "    u_pred = predictions[:X_train.size(0)]\n",
    "    v_pred = predictions[X_train.size(0):]\n",
    "    \n",
    "    # Calculate losses\n",
    "    physics_loss_value, data_loss, total_loss = physics_loss(u_pred, v_pred, f, g, h_x, h_y, X_train, X_train, t)\n",
    "    \n",
    "    total_loss.backward()\n",
    "    optimizer.step()\n",
    "    \n",
    "    # Append losses to the dictionary for analysis\n",
    "    losses['physics_loss'].append(physics_loss_value.item())\n",
    "    losses['data_loss'].append(data_loss.item())\n",
    "    losses['total_loss'].append(total_loss.item())\n",
    "    \n",
    "    if epoch % 10 == 0:\n",
    "        print(f\"Epoch [{epoch}/{epochs}] - Physics Loss: {physics_loss_value.item()}, Data Loss: {data_loss.item()}, Total Loss: {total_loss.item()}\")"
   ]
  },
  {
   "cell_type": "code",
   "execution_count": null,
   "id": "68818eec",
   "metadata": {},
   "outputs": [],
   "source": [
    "# After training, evaluate the model on the test data\n",
    "with torch.no_grad():\n",
    "    y_pred = model(X_test)\n",
    "\n",
    "    # Convert tensors to NumPy arrays for plotting\n",
    "    y_test_numpy = y_test.cpu().numpy()\n",
    "    y_pred_numpy = y_pred.cpu().numpy()\n",
    "\n",
    "    mse = torch.mean(torch.square(y_test - y_pred)).item()\n",
    "    mae = torch.mean(torch.abs(y_test - y_pred)).item()\n",
    "    rmse = torch.sqrt(torch.mean(torch.square(y_test - y_pred)).item())\n",
    "\n",
    "    print(f\"Mean Squared Error: {mse}\")\n",
    "    print(f\"Mean Absolute Error: {mae}\")\n",
    "    print(f\"Root Mean Squared Error: {rmse}\")\n"
   ]
  },
  {
   "cell_type": "code",
   "execution_count": null,
   "id": "49b68043",
   "metadata": {},
   "outputs": [],
   "source": [
    "# Plot loss curves\n",
    "plt.figure(figsize=(10, 5))\n",
    "plt.plot(range(epochs), losses['physics_loss'], label='Physics Loss')\n",
    "plt.plot(range(epochs), losses['data_loss'], label='Data Loss')\n",
    "plt.plot(range(epochs), losses['total_loss'], label='Total Loss')\n",
    "plt.xlabel('Epochs')\n",
    "plt.ylabel('Loss')\n",
    "plt.legend()\n",
    "plt.show()"
   ]
  },
  {
   "cell_type": "code",
   "execution_count": null,
   "id": "0bbdd2e8",
   "metadata": {},
   "outputs": [],
   "source": []
  },
  {
   "cell_type": "code",
   "execution_count": null,
   "id": "c6bf5e44",
   "metadata": {},
   "outputs": [],
   "source": []
  },
  {
   "cell_type": "code",
   "execution_count": null,
   "id": "fd6890a1",
   "metadata": {},
   "outputs": [],
   "source": []
  },
  {
   "cell_type": "code",
   "execution_count": null,
   "id": "0851095e",
   "metadata": {},
   "outputs": [],
   "source": []
  },
  {
   "cell_type": "code",
   "execution_count": null,
   "id": "30f709aa",
   "metadata": {},
   "outputs": [],
   "source": []
  },
  {
   "cell_type": "code",
   "execution_count": null,
   "id": "cb21b597",
   "metadata": {},
   "outputs": [],
   "source": []
  },
  {
   "cell_type": "code",
   "execution_count": null,
   "id": "a4f19a43",
   "metadata": {},
   "outputs": [],
   "source": []
  },
  {
   "cell_type": "code",
   "execution_count": null,
   "id": "08f4fdf4",
   "metadata": {},
   "outputs": [],
   "source": []
  },
  {
   "cell_type": "code",
   "execution_count": null,
   "id": "3e865562",
   "metadata": {},
   "outputs": [],
   "source": []
  },
  {
   "cell_type": "code",
   "execution_count": null,
   "id": "cb9a218f",
   "metadata": {},
   "outputs": [],
   "source": []
  },
  {
   "cell_type": "code",
   "execution_count": null,
   "id": "ea4544ac",
   "metadata": {},
   "outputs": [],
   "source": []
  },
  {
   "cell_type": "code",
   "execution_count": null,
   "id": "093feaec",
   "metadata": {},
   "outputs": [],
   "source": []
  },
  {
   "cell_type": "code",
   "execution_count": null,
   "id": "d440d7fc",
   "metadata": {},
   "outputs": [],
   "source": []
  },
  {
   "cell_type": "code",
   "execution_count": null,
   "id": "76073620",
   "metadata": {},
   "outputs": [],
   "source": []
  }
 ],
 "metadata": {
  "kernelspec": {
   "display_name": "Python 3 (ipykernel)",
   "language": "python",
   "name": "python3"
  },
  "language_info": {
   "codemirror_mode": {
    "name": "ipython",
    "version": 3
   },
   "file_extension": ".py",
   "mimetype": "text/x-python",
   "name": "python",
   "nbconvert_exporter": "python",
   "pygments_lexer": "ipython3",
   "version": "3.8.18"
  }
 },
 "nbformat": 4,
 "nbformat_minor": 5
}
